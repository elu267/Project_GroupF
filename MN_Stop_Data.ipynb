{
 "cells": [
  {
   "cell_type": "markdown",
   "metadata": {},
   "source": [
    "## Questions\n",
    "\n",
    "1.\tWhat factors play into police stops.\n",
    "    a.\tGiven pieces of data about a particular stop, to what extent can we predict the race of the subject. \n",
    "    i.\tAM vs PM \n",
    "2.\tCan we predict what precincts that are more likely to pull over a particular gender/race. \n",
    "    a.\tAM vs PM\n",
    "3.\tWhat is the correlation of prerace actually being accurate to actual race. \n",
    "4.\tAre there times of higher citations. Morning, Afternoon, Evening, Night. \n",
    "5. Does the type of traffic stop impact whether a person is searched? H1 If suspicious vehicle stops are related to a person being searched, then the percentage of searches will be higher than the regular traffic stops for the year; H0 If suspicious vehicle stops are not related to a person being serarched, then the percentage of searches will be approximately equal for the year.\n",
    "\n"
   ]
  },
  {
   "cell_type": "code",
   "execution_count": 1,
   "metadata": {},
   "outputs": [],
   "source": [
    "# importing dependencies\n",
    "import numpy as np \n",
    "import pandas as pd\n",
    "import scipy.stats as stats\n",
    "import matplotlib.pyplot as plt\n",
    "%matplotlib inline\n",
    "from pylab import *\n",
    "import requests\n",
    "import time\n",
    "import json\n",
    "import datetime\n",
    "from pprint import pprint\n",
    "\n",
    "# Google developer API key\n",
    "#from config import google_key\n",
    "\n",
    "# Census developer API key\n",
    "#from config import census_key"
   ]
  },
  {
   "cell_type": "markdown",
   "metadata": {},
   "source": [
    "## Data Load, Prep and Review"
   ]
  },
  {
   "cell_type": "code",
   "execution_count": 125,
   "metadata": {
    "scrolled": false
   },
   "outputs": [
    {
     "data": {
      "text/html": [
       "<div>\n",
       "<style scoped>\n",
       "    .dataframe tbody tr th:only-of-type {\n",
       "        vertical-align: middle;\n",
       "    }\n",
       "\n",
       "    .dataframe tbody tr th {\n",
       "        vertical-align: top;\n",
       "    }\n",
       "\n",
       "    .dataframe thead th {\n",
       "        text-align: right;\n",
       "    }\n",
       "</style>\n",
       "<table border=\"1\" class=\"dataframe\">\n",
       "  <thead>\n",
       "    <tr style=\"text-align: right;\">\n",
       "      <th></th>\n",
       "      <th>Unnamed: 0</th>\n",
       "      <th>idNum</th>\n",
       "      <th>date</th>\n",
       "      <th>problem</th>\n",
       "      <th>MDC</th>\n",
       "      <th>citationIssued</th>\n",
       "      <th>personSearch</th>\n",
       "      <th>vehicleSearch</th>\n",
       "      <th>preRace</th>\n",
       "      <th>race</th>\n",
       "      <th>gender</th>\n",
       "      <th>lat</th>\n",
       "      <th>long</th>\n",
       "      <th>policePrecinct</th>\n",
       "      <th>neighborhood</th>\n",
       "      <th>Time</th>\n",
       "    </tr>\n",
       "  </thead>\n",
       "  <tbody>\n",
       "    <tr>\n",
       "      <th>0</th>\n",
       "      <td>6823</td>\n",
       "      <td>17-000003</td>\n",
       "      <td>2017-01-01 00:00:00</td>\n",
       "      <td>suspicious</td>\n",
       "      <td>MDC</td>\n",
       "      <td>NaN</td>\n",
       "      <td>NO</td>\n",
       "      <td>NO</td>\n",
       "      <td>Unknown</td>\n",
       "      <td>Unknown</td>\n",
       "      <td>Unknown</td>\n",
       "      <td>44.966617</td>\n",
       "      <td>-93.246458</td>\n",
       "      <td>1</td>\n",
       "      <td>Cedar Riverside</td>\n",
       "      <td>00:00:00</td>\n",
       "    </tr>\n",
       "    <tr>\n",
       "      <th>1</th>\n",
       "      <td>6824</td>\n",
       "      <td>17-000007</td>\n",
       "      <td>2017-01-01 00:03:00</td>\n",
       "      <td>suspicious</td>\n",
       "      <td>MDC</td>\n",
       "      <td>NaN</td>\n",
       "      <td>NO</td>\n",
       "      <td>NO</td>\n",
       "      <td>Unknown</td>\n",
       "      <td>Unknown</td>\n",
       "      <td>Male</td>\n",
       "      <td>44.980450</td>\n",
       "      <td>-93.271340</td>\n",
       "      <td>1</td>\n",
       "      <td>Downtown West</td>\n",
       "      <td>00:03:00</td>\n",
       "    </tr>\n",
       "    <tr>\n",
       "      <th>2</th>\n",
       "      <td>6825</td>\n",
       "      <td>17-000073</td>\n",
       "      <td>2017-01-01 00:23:00</td>\n",
       "      <td>traffic</td>\n",
       "      <td>MDC</td>\n",
       "      <td>NaN</td>\n",
       "      <td>NO</td>\n",
       "      <td>NO</td>\n",
       "      <td>Unknown</td>\n",
       "      <td>White</td>\n",
       "      <td>Female</td>\n",
       "      <td>44.948350</td>\n",
       "      <td>-93.275380</td>\n",
       "      <td>5</td>\n",
       "      <td>Whittier</td>\n",
       "      <td>00:23:00</td>\n",
       "    </tr>\n",
       "    <tr>\n",
       "      <th>3</th>\n",
       "      <td>6826</td>\n",
       "      <td>17-000092</td>\n",
       "      <td>2017-01-01 00:33:00</td>\n",
       "      <td>suspicious</td>\n",
       "      <td>MDC</td>\n",
       "      <td>NaN</td>\n",
       "      <td>NO</td>\n",
       "      <td>NO</td>\n",
       "      <td>Unknown</td>\n",
       "      <td>East African</td>\n",
       "      <td>Male</td>\n",
       "      <td>44.948360</td>\n",
       "      <td>-93.281350</td>\n",
       "      <td>5</td>\n",
       "      <td>Whittier</td>\n",
       "      <td>00:33:00</td>\n",
       "    </tr>\n",
       "    <tr>\n",
       "      <th>4</th>\n",
       "      <td>6827</td>\n",
       "      <td>17-000098</td>\n",
       "      <td>2017-01-01 00:37:00</td>\n",
       "      <td>traffic</td>\n",
       "      <td>MDC</td>\n",
       "      <td>NaN</td>\n",
       "      <td>NO</td>\n",
       "      <td>NO</td>\n",
       "      <td>Unknown</td>\n",
       "      <td>White</td>\n",
       "      <td>Female</td>\n",
       "      <td>44.979078</td>\n",
       "      <td>-93.262076</td>\n",
       "      <td>1</td>\n",
       "      <td>Downtown West</td>\n",
       "      <td>00:37:00</td>\n",
       "    </tr>\n",
       "  </tbody>\n",
       "</table>\n",
       "</div>"
      ],
      "text/plain": [
       "   Unnamed: 0      idNum                date     problem  MDC citationIssued  \\\n",
       "0        6823  17-000003 2017-01-01 00:00:00  suspicious  MDC            NaN   \n",
       "1        6824  17-000007 2017-01-01 00:03:00  suspicious  MDC            NaN   \n",
       "2        6825  17-000073 2017-01-01 00:23:00     traffic  MDC            NaN   \n",
       "3        6826  17-000092 2017-01-01 00:33:00  suspicious  MDC            NaN   \n",
       "4        6827  17-000098 2017-01-01 00:37:00     traffic  MDC            NaN   \n",
       "\n",
       "  personSearch vehicleSearch  preRace          race   gender        lat  \\\n",
       "0           NO            NO  Unknown       Unknown  Unknown  44.966617   \n",
       "1           NO            NO  Unknown       Unknown     Male  44.980450   \n",
       "2           NO            NO  Unknown         White   Female  44.948350   \n",
       "3           NO            NO  Unknown  East African     Male  44.948360   \n",
       "4           NO            NO  Unknown         White   Female  44.979078   \n",
       "\n",
       "        long  policePrecinct     neighborhood      Time  \n",
       "0 -93.246458               1  Cedar Riverside  00:00:00  \n",
       "1 -93.271340               1    Downtown West  00:03:00  \n",
       "2 -93.275380               5         Whittier  00:23:00  \n",
       "3 -93.281350               5         Whittier  00:33:00  \n",
       "4 -93.262076               1    Downtown West  00:37:00  "
      ]
     },
     "execution_count": 125,
     "metadata": {},
     "output_type": "execute_result"
    }
   ],
   "source": [
    "# reading csv file\n",
    "StopOriginal = pd.read_csv('MplsStops_base.csv', parse_dates=['date'], infer_datetime_format=True)\n",
    "\n",
    "StopOriginal['Time'] = StopOriginal.date.dt.time\n",
    "\n",
    "# def get_sec(time_str):\n",
    "#     h, m, s = time_str.split(':')\n",
    "#     return int(h) * 3600 + int(m) * 60 + int(s)\n",
    "\n",
    "# for time in StopOriginal:\n",
    "#     convertedTime = get_sec(time['Time'])\n",
    "#     StopOriginal.append({'convertedTime': convertedTime})\n",
    "\n",
    "# displaying file header and five rows\n",
    "StopOriginal.head()\n"
   ]
  },
  {
   "cell_type": "markdown",
   "metadata": {},
   "source": [
    "### Total Stops per Precinct"
   ]
  },
  {
   "cell_type": "code",
   "execution_count": 4,
   "metadata": {},
   "outputs": [
    {
     "data": {
      "text/plain": [
       "5    12825\n",
       "4    12273\n",
       "3     9792\n",
       "2     9478\n",
       "1     7552\n",
       "Name: policePrecinct, dtype: int64"
      ]
     },
     "execution_count": 4,
     "metadata": {},
     "output_type": "execute_result"
    }
   ],
   "source": [
    "#stops per precinct \n",
    "StopOriginal['policePrecinct'].value_counts()"
   ]
  },
  {
   "cell_type": "code",
   "execution_count": 5,
   "metadata": {},
   "outputs": [
    {
     "data": {
      "text/html": [
       "<div>\n",
       "<style scoped>\n",
       "    .dataframe tbody tr th:only-of-type {\n",
       "        vertical-align: middle;\n",
       "    }\n",
       "\n",
       "    .dataframe tbody tr th {\n",
       "        vertical-align: top;\n",
       "    }\n",
       "\n",
       "    .dataframe thead th {\n",
       "        text-align: right;\n",
       "    }\n",
       "</style>\n",
       "<table border=\"1\" class=\"dataframe\">\n",
       "  <thead>\n",
       "    <tr style=\"text-align: right;\">\n",
       "      <th></th>\n",
       "      <th>Unnamed: 0</th>\n",
       "      <th>idNum</th>\n",
       "      <th>date</th>\n",
       "      <th>problem</th>\n",
       "      <th>MDC</th>\n",
       "      <th>citationIssued</th>\n",
       "      <th>personSearch</th>\n",
       "      <th>vehicleSearch</th>\n",
       "      <th>preRace</th>\n",
       "      <th>race</th>\n",
       "      <th>gender</th>\n",
       "      <th>lat</th>\n",
       "      <th>long</th>\n",
       "      <th>policePrecinct</th>\n",
       "      <th>neighborhood</th>\n",
       "      <th>Time</th>\n",
       "    </tr>\n",
       "  </thead>\n",
       "  <tbody>\n",
       "    <tr>\n",
       "      <th>0</th>\n",
       "      <td>6823</td>\n",
       "      <td>17-000003</td>\n",
       "      <td>2017-01-01 00:00:00</td>\n",
       "      <td>suspicious</td>\n",
       "      <td>MDC</td>\n",
       "      <td>NaN</td>\n",
       "      <td>NO</td>\n",
       "      <td>NO</td>\n",
       "      <td>Unknown</td>\n",
       "      <td>Unknown</td>\n",
       "      <td>Unknown</td>\n",
       "      <td>44.966617</td>\n",
       "      <td>-93.246458</td>\n",
       "      <td>1</td>\n",
       "      <td>Cedar Riverside</td>\n",
       "      <td>00:00:00</td>\n",
       "    </tr>\n",
       "    <tr>\n",
       "      <th>1</th>\n",
       "      <td>6824</td>\n",
       "      <td>17-000007</td>\n",
       "      <td>2017-01-01 00:03:00</td>\n",
       "      <td>suspicious</td>\n",
       "      <td>MDC</td>\n",
       "      <td>NaN</td>\n",
       "      <td>NO</td>\n",
       "      <td>NO</td>\n",
       "      <td>Unknown</td>\n",
       "      <td>Unknown</td>\n",
       "      <td>Male</td>\n",
       "      <td>44.980450</td>\n",
       "      <td>-93.271340</td>\n",
       "      <td>1</td>\n",
       "      <td>Downtown West</td>\n",
       "      <td>00:03:00</td>\n",
       "    </tr>\n",
       "    <tr>\n",
       "      <th>2</th>\n",
       "      <td>6825</td>\n",
       "      <td>17-000073</td>\n",
       "      <td>2017-01-01 00:23:00</td>\n",
       "      <td>traffic</td>\n",
       "      <td>MDC</td>\n",
       "      <td>NaN</td>\n",
       "      <td>NO</td>\n",
       "      <td>NO</td>\n",
       "      <td>Unknown</td>\n",
       "      <td>White</td>\n",
       "      <td>Female</td>\n",
       "      <td>44.948350</td>\n",
       "      <td>-93.275380</td>\n",
       "      <td>5</td>\n",
       "      <td>Whittier</td>\n",
       "      <td>00:23:00</td>\n",
       "    </tr>\n",
       "    <tr>\n",
       "      <th>3</th>\n",
       "      <td>6826</td>\n",
       "      <td>17-000092</td>\n",
       "      <td>2017-01-01 00:33:00</td>\n",
       "      <td>suspicious</td>\n",
       "      <td>MDC</td>\n",
       "      <td>NaN</td>\n",
       "      <td>NO</td>\n",
       "      <td>NO</td>\n",
       "      <td>Unknown</td>\n",
       "      <td>East African</td>\n",
       "      <td>Male</td>\n",
       "      <td>44.948360</td>\n",
       "      <td>-93.281350</td>\n",
       "      <td>5</td>\n",
       "      <td>Whittier</td>\n",
       "      <td>00:33:00</td>\n",
       "    </tr>\n",
       "    <tr>\n",
       "      <th>4</th>\n",
       "      <td>6827</td>\n",
       "      <td>17-000098</td>\n",
       "      <td>2017-01-01 00:37:00</td>\n",
       "      <td>traffic</td>\n",
       "      <td>MDC</td>\n",
       "      <td>NaN</td>\n",
       "      <td>NO</td>\n",
       "      <td>NO</td>\n",
       "      <td>Unknown</td>\n",
       "      <td>White</td>\n",
       "      <td>Female</td>\n",
       "      <td>44.979078</td>\n",
       "      <td>-93.262076</td>\n",
       "      <td>1</td>\n",
       "      <td>Downtown West</td>\n",
       "      <td>00:37:00</td>\n",
       "    </tr>\n",
       "  </tbody>\n",
       "</table>\n",
       "</div>"
      ],
      "text/plain": [
       "   Unnamed: 0      idNum                date     problem  MDC citationIssued  \\\n",
       "0        6823  17-000003 2017-01-01 00:00:00  suspicious  MDC            NaN   \n",
       "1        6824  17-000007 2017-01-01 00:03:00  suspicious  MDC            NaN   \n",
       "2        6825  17-000073 2017-01-01 00:23:00     traffic  MDC            NaN   \n",
       "3        6826  17-000092 2017-01-01 00:33:00  suspicious  MDC            NaN   \n",
       "4        6827  17-000098 2017-01-01 00:37:00     traffic  MDC            NaN   \n",
       "\n",
       "  personSearch vehicleSearch  preRace          race   gender        lat  \\\n",
       "0           NO            NO  Unknown       Unknown  Unknown  44.966617   \n",
       "1           NO            NO  Unknown       Unknown     Male  44.980450   \n",
       "2           NO            NO  Unknown         White   Female  44.948350   \n",
       "3           NO            NO  Unknown  East African     Male  44.948360   \n",
       "4           NO            NO  Unknown         White   Female  44.979078   \n",
       "\n",
       "        long  policePrecinct     neighborhood      Time  \n",
       "0 -93.246458               1  Cedar Riverside  00:00:00  \n",
       "1 -93.271340               1    Downtown West  00:03:00  \n",
       "2 -93.275380               5         Whittier  00:23:00  \n",
       "3 -93.281350               5         Whittier  00:33:00  \n",
       "4 -93.262076               1    Downtown West  00:37:00  "
      ]
     },
     "execution_count": 5,
     "metadata": {},
     "output_type": "execute_result"
    }
   ],
   "source": [
    "# storing csv into a pandas dataframe\n",
    "initDF = pd.DataFrame(StopOriginal)\n",
    "initDF.head()"
   ]
  },
  {
   "cell_type": "markdown",
   "metadata": {},
   "source": [
    "### Count of Stops (Removed 'other' values from MCD column)"
   ]
  },
  {
   "cell_type": "code",
   "execution_count": 6,
   "metadata": {},
   "outputs": [
    {
     "data": {
      "text/plain": [
       "5    11435\n",
       "4    10726\n",
       "3     8345\n",
       "2     7944\n",
       "1     5249\n",
       "Name: policePrecinct, dtype: int64"
      ]
     },
     "execution_count": 6,
     "metadata": {},
     "output_type": "execute_result"
    }
   ],
   "source": [
    "#stops per police precinct after removing 'other' values from MDC column\n",
    "cleanDF = initDF.drop(initDF[initDF.MDC == 'other'].index)\n",
    "cleanDF['policePrecinct'].value_counts()"
   ]
  },
  {
   "cell_type": "code",
   "execution_count": 7,
   "metadata": {},
   "outputs": [],
   "source": [
    "#data just for precinct 1 \n",
    "precinct_one = cleanDF.loc[cleanDF['policePrecinct'] == 1 ]\n",
    "precinct_two = cleanDF.loc[cleanDF['policePrecinct'] == 2 ]\n",
    "precinct_three = cleanDF.loc[cleanDF['policePrecinct'] == 3 ]\n",
    "precinct_four = cleanDF.loc[cleanDF['policePrecinct'] == 4 ]\n",
    "precinct_five = cleanDF.loc[cleanDF['policePrecinct'] == 5 ]"
   ]
  },
  {
   "cell_type": "code",
   "execution_count": 8,
   "metadata": {},
   "outputs": [
    {
     "data": {
      "text/plain": [
       "suspicious    3326\n",
       "traffic       1923\n",
       "Name: problem, dtype: int64"
      ]
     },
     "execution_count": 8,
     "metadata": {},
     "output_type": "execute_result"
    }
   ],
   "source": [
    "one = precinct_one['problem'].value_counts()\n",
    "one"
   ]
  },
  {
   "cell_type": "markdown",
   "metadata": {},
   "source": [
    "### Total Stops"
   ]
  },
  {
   "cell_type": "code",
   "execution_count": 9,
   "metadata": {},
   "outputs": [
    {
     "data": {
      "text/plain": [
       "43699"
      ]
     },
     "execution_count": 9,
     "metadata": {},
     "output_type": "execute_result"
    }
   ],
   "source": [
    "# calculating total stops \n",
    "precinct_df = pd.DataFrame(cleanDF['policePrecinct'].value_counts())\n",
    "stops = precinct_df['policePrecinct'].sum()\n",
    "stops"
   ]
  },
  {
   "cell_type": "markdown",
   "metadata": {},
   "source": [
    "### Count/Percent of Stops by Race"
   ]
  },
  {
   "cell_type": "code",
   "execution_count": 10,
   "metadata": {},
   "outputs": [
    {
     "data": {
      "text/html": [
       "<div>\n",
       "<style scoped>\n",
       "    .dataframe tbody tr th:only-of-type {\n",
       "        vertical-align: middle;\n",
       "    }\n",
       "\n",
       "    .dataframe tbody tr th {\n",
       "        vertical-align: top;\n",
       "    }\n",
       "\n",
       "    .dataframe thead th {\n",
       "        text-align: right;\n",
       "    }\n",
       "</style>\n",
       "<table border=\"1\" class=\"dataframe\">\n",
       "  <thead>\n",
       "    <tr style=\"text-align: right;\">\n",
       "      <th></th>\n",
       "      <th>race</th>\n",
       "      <th>%</th>\n",
       "    </tr>\n",
       "  </thead>\n",
       "  <tbody>\n",
       "    <tr>\n",
       "      <th>Black</th>\n",
       "      <td>15220</td>\n",
       "      <td>34.83%</td>\n",
       "    </tr>\n",
       "    <tr>\n",
       "      <th>White</th>\n",
       "      <td>11703</td>\n",
       "      <td>26.78%</td>\n",
       "    </tr>\n",
       "    <tr>\n",
       "      <th>Unknown</th>\n",
       "      <td>9219</td>\n",
       "      <td>21.10%</td>\n",
       "    </tr>\n",
       "    <tr>\n",
       "      <th>East African</th>\n",
       "      <td>2188</td>\n",
       "      <td>5.01%</td>\n",
       "    </tr>\n",
       "    <tr>\n",
       "      <th>Latino</th>\n",
       "      <td>1858</td>\n",
       "      <td>4.25%</td>\n",
       "    </tr>\n",
       "    <tr>\n",
       "      <th>Native American</th>\n",
       "      <td>1516</td>\n",
       "      <td>3.47%</td>\n",
       "    </tr>\n",
       "    <tr>\n",
       "      <th>Other</th>\n",
       "      <td>1348</td>\n",
       "      <td>3.08%</td>\n",
       "    </tr>\n",
       "    <tr>\n",
       "      <th>Asian</th>\n",
       "      <td>647</td>\n",
       "      <td>1.48%</td>\n",
       "    </tr>\n",
       "  </tbody>\n",
       "</table>\n",
       "</div>"
      ],
      "text/plain": [
       "                  race       %\n",
       "Black            15220  34.83%\n",
       "White            11703  26.78%\n",
       "Unknown           9219  21.10%\n",
       "East African      2188   5.01%\n",
       "Latino            1858   4.25%\n",
       "Native American   1516   3.47%\n",
       "Other             1348   3.08%\n",
       "Asian              647   1.48%"
      ]
     },
     "metadata": {},
     "output_type": "display_data"
    },
    {
     "data": {
      "image/png": "[encoded data removed]",
      "text/plain": [
       "<Figure size 432x288 with 1 Axes>"
      ]
     },
     "metadata": {},
     "output_type": "display_data"
    }
   ],
   "source": [
    "# Count of Stops by Race\n",
    "race_count = pd.DataFrame(cleanDF['race'].value_counts())\n",
    "race_count['%'] = race_count['race'] / stops * 100\n",
    "race_count['%'] = race_count['%'].map(\"{:.2f}%\".format)\n",
    "display(race_count)\n",
    "labels = ['Black','White', 'Unknown', 'East African', 'Latino', 'Native American', 'Other', 'Asian']\n",
    "plt.pie(race_count['race'], labels=labels, autopct=\"%1.1f%%\")\n",
    "# adding title\n",
    "plt.title(\"% of Total Population by Race\")\n",
    "# save the figure\n",
    "plt.savefig(\"percent_pop_race.png\")\n",
    "# show the figure\n",
    "plt.show()"
   ]
  },
  {
   "cell_type": "code",
   "execution_count": 11,
   "metadata": {},
   "outputs": [
    {
     "data": {
      "image/png": "[encoded data removed]",
      "text/plain": [
       "<Figure size 432x288 with 1 Axes>"
      ]
     },
     "metadata": {},
     "output_type": "display_data"
    }
   ],
   "source": [
    "# the labels need to be fixed and despite about 5 attempts, I cannot find the magical code to do that\n",
    "race_type = ['Black','White', 'Unknown', 'East African', 'Latino', 'Native American', 'Other', 'Asian']\n",
    "race_cnts = race_count['race'].values.tolist()\n",
    "plt.bar(race_type, race_cnts,  align='center')\n",
    "plt.xticks(rotation='vertical')\n",
    "plt.show()"
   ]
  },
  {
   "cell_type": "markdown",
   "metadata": {},
   "source": [
    "## Q4: Are there instances of higher stops by morning, afternoon, evening, night?"
   ]
  },
  {
   "cell_type": "code",
   "execution_count": 12,
   "metadata": {},
   "outputs": [
    {
     "data": {
      "text/html": [
       "<div>\n",
       "<style scoped>\n",
       "    .dataframe tbody tr th:only-of-type {\n",
       "        vertical-align: middle;\n",
       "    }\n",
       "\n",
       "    .dataframe tbody tr th {\n",
       "        vertical-align: top;\n",
       "    }\n",
       "\n",
       "    .dataframe thead th {\n",
       "        text-align: right;\n",
       "    }\n",
       "</style>\n",
       "<table border=\"1\" class=\"dataframe\">\n",
       "  <thead>\n",
       "    <tr style=\"text-align: right;\">\n",
       "      <th></th>\n",
       "      <th>Unnamed: 0</th>\n",
       "      <th>idNum</th>\n",
       "      <th>date</th>\n",
       "      <th>problem</th>\n",
       "      <th>MDC</th>\n",
       "      <th>citationIssued</th>\n",
       "      <th>personSearch</th>\n",
       "      <th>vehicleSearch</th>\n",
       "      <th>preRace</th>\n",
       "      <th>race</th>\n",
       "      <th>gender</th>\n",
       "      <th>lat</th>\n",
       "      <th>long</th>\n",
       "      <th>policePrecinct</th>\n",
       "      <th>neighborhood</th>\n",
       "      <th>Time</th>\n",
       "    </tr>\n",
       "    <tr>\n",
       "      <th>id_date</th>\n",
       "      <th></th>\n",
       "      <th></th>\n",
       "      <th></th>\n",
       "      <th></th>\n",
       "      <th></th>\n",
       "      <th></th>\n",
       "      <th></th>\n",
       "      <th></th>\n",
       "      <th></th>\n",
       "      <th></th>\n",
       "      <th></th>\n",
       "      <th></th>\n",
       "      <th></th>\n",
       "      <th></th>\n",
       "      <th></th>\n",
       "      <th></th>\n",
       "    </tr>\n",
       "  </thead>\n",
       "  <tbody>\n",
       "    <tr>\n",
       "      <th>00:00:00</th>\n",
       "      <td>8813</td>\n",
       "      <td>8813</td>\n",
       "      <td>8813</td>\n",
       "      <td>8813</td>\n",
       "      <td>8813</td>\n",
       "      <td>3531</td>\n",
       "      <td>8813</td>\n",
       "      <td>8813</td>\n",
       "      <td>8813</td>\n",
       "      <td>8813</td>\n",
       "      <td>8799</td>\n",
       "      <td>8813</td>\n",
       "      <td>8813</td>\n",
       "      <td>8813</td>\n",
       "      <td>8813</td>\n",
       "      <td>8813</td>\n",
       "    </tr>\n",
       "    <tr>\n",
       "      <th>06:00:00</th>\n",
       "      <td>6681</td>\n",
       "      <td>6681</td>\n",
       "      <td>6681</td>\n",
       "      <td>6681</td>\n",
       "      <td>6681</td>\n",
       "      <td>3103</td>\n",
       "      <td>6681</td>\n",
       "      <td>6681</td>\n",
       "      <td>6681</td>\n",
       "      <td>6681</td>\n",
       "      <td>6673</td>\n",
       "      <td>6681</td>\n",
       "      <td>6681</td>\n",
       "      <td>6681</td>\n",
       "      <td>6681</td>\n",
       "      <td>6681</td>\n",
       "    </tr>\n",
       "    <tr>\n",
       "      <th>12:00:00</th>\n",
       "      <td>11809</td>\n",
       "      <td>11809</td>\n",
       "      <td>11809</td>\n",
       "      <td>11809</td>\n",
       "      <td>11809</td>\n",
       "      <td>5466</td>\n",
       "      <td>11809</td>\n",
       "      <td>11809</td>\n",
       "      <td>11809</td>\n",
       "      <td>11809</td>\n",
       "      <td>11793</td>\n",
       "      <td>11809</td>\n",
       "      <td>11809</td>\n",
       "      <td>11809</td>\n",
       "      <td>11809</td>\n",
       "      <td>11809</td>\n",
       "    </tr>\n",
       "    <tr>\n",
       "      <th>18:00:00</th>\n",
       "      <td>16396</td>\n",
       "      <td>16396</td>\n",
       "      <td>16396</td>\n",
       "      <td>16396</td>\n",
       "      <td>16396</td>\n",
       "      <td>7010</td>\n",
       "      <td>16396</td>\n",
       "      <td>16396</td>\n",
       "      <td>16396</td>\n",
       "      <td>16396</td>\n",
       "      <td>16373</td>\n",
       "      <td>16396</td>\n",
       "      <td>16396</td>\n",
       "      <td>16396</td>\n",
       "      <td>16396</td>\n",
       "      <td>16396</td>\n",
       "    </tr>\n",
       "  </tbody>\n",
       "</table>\n",
       "</div>"
      ],
      "text/plain": [
       "          Unnamed: 0  idNum   date  problem    MDC  citationIssued  \\\n",
       "id_date                                                              \n",
       "00:00:00        8813   8813   8813     8813   8813            3531   \n",
       "06:00:00        6681   6681   6681     6681   6681            3103   \n",
       "12:00:00       11809  11809  11809    11809  11809            5466   \n",
       "18:00:00       16396  16396  16396    16396  16396            7010   \n",
       "\n",
       "          personSearch  vehicleSearch  preRace   race  gender    lat   long  \\\n",
       "id_date                                                                       \n",
       "00:00:00          8813           8813     8813   8813    8799   8813   8813   \n",
       "06:00:00          6681           6681     6681   6681    6673   6681   6681   \n",
       "12:00:00         11809          11809    11809  11809   11793  11809  11809   \n",
       "18:00:00         16396          16396    16396  16396   16373  16396  16396   \n",
       "\n",
       "          policePrecinct  neighborhood   Time  \n",
       "id_date                                        \n",
       "00:00:00            8813          8813   8813  \n",
       "06:00:00            6681          6681   6681  \n",
       "12:00:00           11809         11809  11809  \n",
       "18:00:00           16396         16396  16396  "
      ]
     },
     "execution_count": 12,
     "metadata": {},
     "output_type": "execute_result"
    }
   ],
   "source": [
    "# grouping by time of day\n",
    "cleanDF['id_date'] = pd.to_datetime(cleanDF['date'], errors='coerce')\n",
    "cleanDF.set_index('id_date', inplace=True)\n",
    "# timeDF = cleanDF.groupby(['policePrecinct', pd.Grouper(key='date',freq='6h')]) ['problem'].value_counts()\n",
    "# timeDF\n",
    "\n",
    "grouper = pd.Grouper(freq='6h')\n",
    "cleanDF.index = cleanDF.reset_index()['id_date'].apply(lambda x: x - pd.Timestamp(x.date()))\n",
    "time_of_day = cleanDF.groupby(grouper).count()\n",
    "time_of_day\n",
    "\n"
   ]
  },
  {
   "cell_type": "code",
   "execution_count": null,
   "metadata": {},
   "outputs": [],
   "source": []
  },
  {
   "cell_type": "code",
   "execution_count": 151,
   "metadata": {},
   "outputs": [],
   "source": [
    "timeDF = cleanDF.groupby(grouper) ['policePrecinct'].value_counts()\n",
    "timeDF = pd.DataFrame(timeDF)\n",
    "#timeDF"
   ]
  },
  {
   "cell_type": "code",
   "execution_count": 149,
   "metadata": {},
   "outputs": [],
   "source": [
    "timeDF4 = cleanDF.groupby([grouper, 'problem']) ['race'].value_counts()\n",
    "timeDF4 = pd.DataFrame(timeDF4)\n",
    "#timeDF4"
   ]
  },
  {
   "cell_type": "code",
   "execution_count": 15,
   "metadata": {},
   "outputs": [],
   "source": [
    "timeDF2 = cleanDF.groupby(grouper) ['problem'].value_counts()\n",
    "timeDF2 = pd.DataFrame(timeDF2)\n",
    "timeDF2 = timeDF2.rename(columns={'problem':'count'})\n",
    "\n",
    "\n"
   ]
  },
  {
   "cell_type": "code",
   "execution_count": 150,
   "metadata": {},
   "outputs": [],
   "source": [
    "timeDF3 = cleanDF.groupby(grouper)['race'].value_counts()\n",
    "timeDF3 = pd.DataFrame(timeDF3)\n",
    "#timeDF3\n",
    "\n",
    "\n"
   ]
  },
  {
   "cell_type": "markdown",
   "metadata": {},
   "source": [
    "### Stops by Race per Precinct"
   ]
  },
  {
   "cell_type": "code",
   "execution_count": 17,
   "metadata": {},
   "outputs": [
    {
     "data": {
      "text/html": [
       "<div>\n",
       "<style scoped>\n",
       "    .dataframe tbody tr th:only-of-type {\n",
       "        vertical-align: middle;\n",
       "    }\n",
       "\n",
       "    .dataframe tbody tr th {\n",
       "        vertical-align: top;\n",
       "    }\n",
       "\n",
       "    .dataframe thead th {\n",
       "        text-align: right;\n",
       "    }\n",
       "</style>\n",
       "<table border=\"1\" class=\"dataframe\">\n",
       "  <thead>\n",
       "    <tr style=\"text-align: right;\">\n",
       "      <th></th>\n",
       "      <th>race</th>\n",
       "      <th>one</th>\n",
       "      <th>two</th>\n",
       "      <th>three</th>\n",
       "      <th>four</th>\n",
       "      <th>five</th>\n",
       "      <th>Total</th>\n",
       "    </tr>\n",
       "  </thead>\n",
       "  <tbody>\n",
       "    <tr>\n",
       "      <th>0</th>\n",
       "      <td>Asian</td>\n",
       "      <td>65</td>\n",
       "      <td>165</td>\n",
       "      <td>53</td>\n",
       "      <td>177</td>\n",
       "      <td>187</td>\n",
       "      <td>647</td>\n",
       "    </tr>\n",
       "    <tr>\n",
       "      <th>1</th>\n",
       "      <td>Black</td>\n",
       "      <td>2176</td>\n",
       "      <td>2226</td>\n",
       "      <td>2059</td>\n",
       "      <td>6183</td>\n",
       "      <td>2576</td>\n",
       "      <td>15220</td>\n",
       "    </tr>\n",
       "    <tr>\n",
       "      <th>2</th>\n",
       "      <td>East African</td>\n",
       "      <td>286</td>\n",
       "      <td>364</td>\n",
       "      <td>463</td>\n",
       "      <td>127</td>\n",
       "      <td>948</td>\n",
       "      <td>2188</td>\n",
       "    </tr>\n",
       "    <tr>\n",
       "      <th>3</th>\n",
       "      <td>Latino</td>\n",
       "      <td>100</td>\n",
       "      <td>429</td>\n",
       "      <td>543</td>\n",
       "      <td>216</td>\n",
       "      <td>570</td>\n",
       "      <td>1858</td>\n",
       "    </tr>\n",
       "    <tr>\n",
       "      <th>4</th>\n",
       "      <td>Native American</td>\n",
       "      <td>192</td>\n",
       "      <td>119</td>\n",
       "      <td>750</td>\n",
       "      <td>108</td>\n",
       "      <td>347</td>\n",
       "      <td>1516</td>\n",
       "    </tr>\n",
       "    <tr>\n",
       "      <th>5</th>\n",
       "      <td>Other</td>\n",
       "      <td>165</td>\n",
       "      <td>304</td>\n",
       "      <td>273</td>\n",
       "      <td>228</td>\n",
       "      <td>378</td>\n",
       "      <td>1348</td>\n",
       "    </tr>\n",
       "    <tr>\n",
       "      <th>6</th>\n",
       "      <td>Unknown</td>\n",
       "      <td>897</td>\n",
       "      <td>1033</td>\n",
       "      <td>2893</td>\n",
       "      <td>2494</td>\n",
       "      <td>1902</td>\n",
       "      <td>9219</td>\n",
       "    </tr>\n",
       "    <tr>\n",
       "      <th>7</th>\n",
       "      <td>White</td>\n",
       "      <td>1368</td>\n",
       "      <td>3304</td>\n",
       "      <td>1311</td>\n",
       "      <td>1193</td>\n",
       "      <td>4527</td>\n",
       "      <td>11703</td>\n",
       "    </tr>\n",
       "  </tbody>\n",
       "</table>\n",
       "</div>"
      ],
      "text/plain": [
       "              race   one   two  three  four  five  Total\n",
       "0            Asian    65   165     53   177   187    647\n",
       "1            Black  2176  2226   2059  6183  2576  15220\n",
       "2     East African   286   364    463   127   948   2188\n",
       "3           Latino   100   429    543   216   570   1858\n",
       "4  Native American   192   119    750   108   347   1516\n",
       "5            Other   165   304    273   228   378   1348\n",
       "6          Unknown   897  1033   2893  2494  1902   9219\n",
       "7            White  1368  3304   1311  1193  4527  11703"
      ]
     },
     "execution_count": 17,
     "metadata": {},
     "output_type": "execute_result"
    }
   ],
   "source": [
    "# stops per precinct by race\n",
    "# count of stops per race per precinct\n",
    "one_race_count = pd.DataFrame(precinct_one['race'].value_counts())\n",
    "one_race_count = one_race_count.rename(columns={'race':'one'})\n",
    "\n",
    "two_race_count = pd.DataFrame(precinct_two['race'].value_counts())\n",
    "two_race_count = two_race_count.rename(columns={'race':'two'})\n",
    "\n",
    "three_race_count = pd.DataFrame(precinct_three['race'].value_counts())\n",
    "three_race_count = three_race_count.rename(columns={'race':'three'})\n",
    "\n",
    "four_race_count = pd.DataFrame(precinct_four['race'].value_counts())\n",
    "four_race_count = four_race_count.rename(columns={'race':'four'})\n",
    "\n",
    "five_race_count = pd.DataFrame(precinct_five['race'].value_counts())\n",
    "five_race_count = five_race_count.rename(columns={'race':'five'})\n",
    "\n",
    "#stops per precinct by race\n",
    "stops_per_precinct_by_race = pd.concat([one_race_count,two_race_count,three_race_count,four_race_count,five_race_count], axis=1, sort=True)\n",
    "stops_per_precinct_by_race = stops_per_precinct_by_race.reset_index()\n",
    "stops_per_precinct_by_race = stops_per_precinct_by_race.rename(columns={'index':'race'})\n",
    "stops_per_precinct_by_race = stops_per_precinct_by_race[['race','one','two','three','four','five']]\n",
    "stops_per_precinct_by_race['Total'] = stops_per_precinct_by_race.sum(axis=1)\n",
    "\n",
    "stops_per_precinct_by_race\n",
    "\n",
    "\n"
   ]
  },
  {
   "cell_type": "markdown",
   "metadata": {},
   "source": [
    "### Stops By Precinct Per Race Bar Charts"
   ]
  },
  {
   "cell_type": "code",
   "execution_count": 31,
   "metadata": {
    "scrolled": false
   },
   "outputs": [
    {
     "data": {
      "image/png": "[encoded data removed]",
      "text/plain": [
       "<Figure size 792x1440 with 5 Axes>"
      ]
     },
     "metadata": {},
     "output_type": "display_data"
    }
   ],
   "source": [
    "#splitting up df to segment by precicnt\n",
    "stppbr = stops_per_precinct_by_race\n",
    "stppbr\n",
    "\n",
    "one = pd.DataFrame(stppbr.iloc[:, [0,1]])  \n",
    "two = pd.DataFrame(stppbr.iloc[:, [0,2]]) #data.iloc[[0,3,6,24], [0,5,6]]\n",
    "three = pd.DataFrame(stppbr.iloc[:, [0,3]])\n",
    "four = pd.DataFrame(stppbr.iloc[:, [0,4]])\n",
    "five = pd.DataFrame(stppbr.iloc[:, [0,5]])\n",
    "six = pd.DataFrame(stppbr.iloc[:, [0,6]])\n",
    "\n",
    "#plotting\n",
    "fig1,ax = plt.subplots(5,1 , figsize=(11,20))\n",
    "\n",
    "ax[0].bar(one.race,one.one,  color='m', label='One',edgecolor='black')\n",
    "ax[1].bar(two.race,two.two,  color='deepskyblue', label='Two',edgecolor='black')\n",
    "ax[2].bar(three.race,three.three,  color='seagreen', label='Three',edgecolor='black')\n",
    "ax[3].bar(four.race,four.four,  color='coral', label='Four',edgecolor='black')\n",
    "ax[4].bar(five.race,five.five,  color='salmon', label='Five',edgecolor='black')\n",
    "\n",
    "ax[0].margins(x=0.1,y=0.2) \n",
    "ax[1].margins(x=0.1,y=0.3) \n",
    "ax[2].margins(x=0.1,y=0.3) \n",
    "ax[3].margins(x=0.1,y=0.3) \n",
    "ax[4].margins(x=0.1,y=0.2) \n",
    "\n",
    "ax[0].set_title('Precinct One')\n",
    "ax[1].set_title('Precinct Two')\n",
    "ax[2].set_title('Precinct Three')\n",
    "ax[3].set_title('Precinct Four')\n",
    "ax[4].set_title('Precinct Five')\n",
    "\n",
    "fig1.savefig('Stops_per_precinct_by_race.png')"
   ]
  },
  {
   "cell_type": "code",
   "execution_count": 218,
   "metadata": {},
   "outputs": [
    {
     "data": {
      "image/png": "[encoded data removed]",
      "text/plain": [
       "<Figure size 1008x288 with 1 Axes>"
      ]
     },
     "metadata": {},
     "output_type": "display_data"
    }
   ],
   "source": [
    "stppbr = stops_per_precinct_by_race\n",
    "stppbr\n",
    "\n",
    "one = pd.DataFrame(stppbr.iloc[:, [0,1]])  \n",
    "two = pd.DataFrame(stppbr.iloc[:, [0,2]]) #data.iloc[[0,3,6,24], [0,5,6]]\n",
    "three = pd.DataFrame(stppbr.iloc[:, [0,3]])\n",
    "four = pd.DataFrame(stppbr.iloc[:, [0,4]])\n",
    "five = pd.DataFrame(stppbr.iloc[:, [0,5]])\n",
    "six = pd.DataFrame(stppbr.iloc[:, [0,6]])\n",
    "\n",
    "#plotting\n",
    "fig8,ax8 = plt.subplots( figsize=(14,4))\n",
    "\n",
    "ax8.scatter(one.race,one.one, s=100, color='m', label='One',linewidths=1 ,edgecolor='black',alpha=.8)\n",
    "ax8.scatter(two.race,two.two, s=100, color='deepskyblue', label='Two',linewidths=1 ,edgecolor='black',alpha=.8)\n",
    "ax8.scatter(three.race,three.three, s=100, color='seagreen', label='Three',linewidths=1 ,edgecolor='black',alpha=.8)\n",
    "ax8.scatter(four.race,four.four, s=100, color='coral', label='Four',linewidths=1 ,edgecolor='black',alpha=.8)\n",
    "ax8.scatter(five.race,five.five, s=100, color='r', label='Five',linewidths=1 ,edgecolor='black',alpha=.8)\n",
    "ax8.margins(x=0.1,y=0.2) \n",
    "ax8.legend(loc='upper left',title='Precinct')\n",
    "ax8.margins(x=0.1,y=0.1) \n",
    "ax8.set_title('Stops Per Precinct by Race')\n",
    "\n",
    "fig8.savefig('Stops_per_precinct_by_race2.png')"
   ]
  },
  {
   "cell_type": "markdown",
   "metadata": {},
   "source": [
    "### Bar chart Version of above"
   ]
  },
  {
   "cell_type": "code",
   "execution_count": 254,
   "metadata": {},
   "outputs": [
    {
     "data": {
      "image/png": "[encoded data removed]",
      "text/plain": [
       "<Figure size 1368x504 with 1 Axes>"
      ]
     },
     "metadata": {},
     "output_type": "display_data"
    },
    {
     "data": {
      "text/plain": [
       "<Figure size 432x288 with 0 Axes>"
      ]
     },
     "metadata": {},
     "output_type": "display_data"
    }
   ],
   "source": [
    "one = stppbr['one']\n",
    "two = stppbr['two']\n",
    "three = stppbr['three']\n",
    "four = stppbr['four']\n",
    "five = stppbr['five']\n",
    "\n",
    "fig11, ax11 = plt.subplots(figsize= (19,7) )\n",
    "\n",
    "x = np.arange(8)\n",
    "                    \n",
    "ax11.bar(X + 0.00, one, color = 'm', width = 0.10, label='Precinct One')\n",
    "ax11.bar(X + 0.15, two, color = 'deepskyblue', width = 0.10,label='Precinct Two')\n",
    "ax11.bar(X + 0.30, three, color = 'seagreen', width = 0.10,label='Precinct Three')\n",
    "ax11.bar(X + 0.45, four, color = 'coral', width = 0.10,label='Precinct Four')\n",
    "ax11.bar(X + 0.60, five, color = 'violet', width = 0.10,label='Precinct Five' )\n",
    "#plt.xticks('Asian','Black','East African','Latino','Native American','Other','Unknown','White')\n",
    "plt.xticks([0,1,2,3,4,5,6,7], ['Asian','Black','East African','Latino','Native American','Other','Unknown','White'])\n",
    "ax11.set_title('Precinct Stops by Race')\n",
    "plt.legend()\n",
    "plt.grid()\n",
    "plt.show()\n",
    "\n",
    "plt.savefig('precinct_stops_per_race_count_stacked.png')"
   ]
  },
  {
   "cell_type": "code",
   "execution_count": 238,
   "metadata": {},
   "outputs": [
    {
     "data": {
      "image/png": "[encoded data removed]",
      "text/plain": [
       "<Figure size 792x1296 with 5 Axes>"
      ]
     },
     "metadata": {},
     "output_type": "display_data"
    }
   ],
   "source": [
    "##splitting up df to segment by precicnt\n",
    "one = pd.DataFrame(stppbr.iloc[:, [0,1]])  \n",
    "two = pd.DataFrame(stppbr.iloc[:, [0,2]]) #data.iloc[[0,3,6,24], [0,5,6]]\n",
    "three = pd.DataFrame(stppbr.iloc[:, [0,3]])\n",
    "four = pd.DataFrame(stppbr.iloc[:, [0,4]])\n",
    "five = pd.DataFrame(stppbr.iloc[:, [0,5]])\n",
    "six = pd.DataFrame(stppbr.iloc[:, [0,6]])\n",
    "\n",
    "fig2,ax = plt.subplots(5,1 , figsize=(11,18))\n",
    "\n",
    "ax[0].bar(one.race,one.one,  color='m', label='One' ,edgecolor='black')\n",
    "ax[1].bar(two.race,two.two,  color='deepskyblue', label='Two' ,edgecolor='black')\n",
    "ax[2].bar(three.race,three.three,  color='seagreen', label='Three' ,edgecolor='black')\n",
    "ax[3].bar(four.race,four.four,  color='coral', label='Four' ,edgecolor='black')\n",
    "ax[4].bar(five.race,five.five,  color='violet', label='Five' ,edgecolor='black')\n",
    "\n",
    "ax[0].margins(x=0.1,y=0.2) \n",
    "ax[1].margins(x=0.1,y=0.1) \n",
    "ax[2].margins(x=0.1,y=0.1) \n",
    "ax[3].margins(x=0.1,y=0.1) \n",
    "ax[4].margins(x=0.1,y=0.2) \n",
    "\n",
    "ax[0].set_title('Precinct One',loc='left')\n",
    "ax[1].set_title('Precinct Two',loc='left')\n",
    "ax[2].set_title('Precinct Three',loc='left')\n",
    "ax[3].set_title('Precinct Four',loc='left')\n",
    "ax[4].set_title('Precinct Five',loc='left')\n",
    "\n",
    "fig2.savefig('Stops_per_precinct_by_race_bar.png')"
   ]
  },
  {
   "cell_type": "markdown",
   "metadata": {},
   "source": [
    "### Total Stops Per Race"
   ]
  },
  {
   "cell_type": "code",
   "execution_count": 124,
   "metadata": {},
   "outputs": [
    {
     "data": {
      "image/png": "[encoded data removed]",
      "text/plain": [
       "<Figure size 432x288 with 1 Axes>"
      ]
     },
     "metadata": {},
     "output_type": "display_data"
    }
   ],
   "source": [
    "Total_Stops_Per_Race = stppbr.plot(kind='bar',x='race',y='Total',legend=None, title='Total Stops per Race')\n"
   ]
  },
  {
   "cell_type": "markdown",
   "metadata": {},
   "source": [
    "### Stops by Gender per Precinct"
   ]
  },
  {
   "cell_type": "code",
   "execution_count": 22,
   "metadata": {},
   "outputs": [
    {
     "data": {
      "text/html": [
       "<div>\n",
       "<style scoped>\n",
       "    .dataframe tbody tr th:only-of-type {\n",
       "        vertical-align: middle;\n",
       "    }\n",
       "\n",
       "    .dataframe tbody tr th {\n",
       "        vertical-align: top;\n",
       "    }\n",
       "\n",
       "    .dataframe thead th {\n",
       "        text-align: right;\n",
       "    }\n",
       "</style>\n",
       "<table border=\"1\" class=\"dataframe\">\n",
       "  <thead>\n",
       "    <tr style=\"text-align: right;\">\n",
       "      <th></th>\n",
       "      <th>One</th>\n",
       "      <th>Two</th>\n",
       "      <th>Three</th>\n",
       "      <th>Four</th>\n",
       "      <th>Five</th>\n",
       "      <th>Total</th>\n",
       "      <th>%</th>\n",
       "    </tr>\n",
       "  </thead>\n",
       "  <tbody>\n",
       "    <tr>\n",
       "      <th>Male</th>\n",
       "      <td>3664</td>\n",
       "      <td>5181</td>\n",
       "      <td>4816</td>\n",
       "      <td>6468</td>\n",
       "      <td>7002</td>\n",
       "      <td>27131</td>\n",
       "      <td>62.17%</td>\n",
       "    </tr>\n",
       "    <tr>\n",
       "      <th>Female</th>\n",
       "      <td>985</td>\n",
       "      <td>2109</td>\n",
       "      <td>1598</td>\n",
       "      <td>2297</td>\n",
       "      <td>3026</td>\n",
       "      <td>10015</td>\n",
       "      <td>22.95%</td>\n",
       "    </tr>\n",
       "    <tr>\n",
       "      <th>Unknown</th>\n",
       "      <td>593</td>\n",
       "      <td>645</td>\n",
       "      <td>1922</td>\n",
       "      <td>1943</td>\n",
       "      <td>1389</td>\n",
       "      <td>6492</td>\n",
       "      <td>14.88%</td>\n",
       "    </tr>\n",
       "  </tbody>\n",
       "</table>\n",
       "</div>"
      ],
      "text/plain": [
       "          One   Two  Three  Four  Five  Total       %\n",
       "Male     3664  5181   4816  6468  7002  27131  62.17%\n",
       "Female    985  2109   1598  2297  3026  10015  22.95%\n",
       "Unknown   593   645   1922  1943  1389   6492  14.88%"
      ]
     },
     "execution_count": 22,
     "metadata": {},
     "output_type": "execute_result"
    }
   ],
   "source": [
    "# precinct stops by gender\n",
    "one_sex = pd.DataFrame(precinct_one['gender'].value_counts())\n",
    "two_sex = pd.DataFrame(precinct_two['gender'].value_counts())\n",
    "three_sex = pd.DataFrame(precinct_three['gender'].value_counts())\n",
    "four_sex = pd.DataFrame(precinct_four['gender'].value_counts())\n",
    "five_sex = pd.DataFrame(precinct_five['gender'].value_counts())\n",
    "\n",
    "precincts_sex = pd.concat([one_sex,two_sex,three_sex,four_sex,five_sex] , axis=1, sort=False)\n",
    "precincts_sex.columns = ['One','Two','Three','Four','Five']\n",
    "precincts_sex['Total'] = precincts_sex.sum(axis=1)\n",
    "precincts_sex['%'] = precincts_sex['Total'] / precincts_sex['Total'].sum() * 100 \n",
    "precincts_sex['%'] = precincts_sex['%'].map(\"{:.2f}%\".format)\n",
    "precincts_sex\n",
    "\n"
   ]
  },
  {
   "cell_type": "code",
   "execution_count": 246,
   "metadata": {},
   "outputs": [
    {
     "data": {
      "image/png": "[encoded data removed]",
      "text/plain": [
       "<Figure size 1296x216 with 5 Axes>"
      ]
     },
     "metadata": {},
     "output_type": "display_data"
    }
   ],
   "source": [
    "#chart to show num of stops per gender for each precinct\n",
    "\n",
    "x = ('Male','Female','Unknown')\n",
    "y1 = precincts_sex['One']\n",
    "y2 = precincts_sex['Two']\n",
    "y3 = precincts_sex['Three']\n",
    "y4 = precincts_sex['Four']\n",
    "y5 = precincts_sex['Five']\n",
    "\n",
    "fig6, ax6 = plt.subplots(1,5 , figsize=(18,3))\n",
    "ax6[0].bar(x,y1,  color='m')\n",
    "ax6[0].set_ylim(0,7200)\n",
    "ax6[0].set_title('Precinct One')\n",
    "\n",
    "ax6[1].bar(x,y2,  color='deepskyblue')\n",
    "ax6[1].set_ylim(0,7200)\n",
    "ax6[1].set_title('Precinct Two')\n",
    "\n",
    "ax6[2].bar(x,y3,  color='seagreen')\n",
    "ax6[2].set_ylim(0,7200)\n",
    "ax6[2].set_title('Precinct Three')\n",
    "\n",
    "ax6[3].bar(x,y4,  color='coral')\n",
    "ax6[3].set_ylim(0,7200)\n",
    "ax6[3].set_title('Precinct Four')\n",
    "\n",
    "ax6[4].bar(x,y5,  color='Violet')\n",
    "ax6[4].set_ylim(0,7200)\n",
    "ax6[4].set_title('Precinct Five')\n",
    "\n",
    "\n",
    "fig6.savefig('Stops_per_precinct_by_gender_bar.png')"
   ]
  },
  {
   "cell_type": "markdown",
   "metadata": {},
   "source": [
    "### Total Stops by Gender"
   ]
  },
  {
   "cell_type": "code",
   "execution_count": 24,
   "metadata": {},
   "outputs": [
    {
     "data": {
      "text/html": [
       "<div>\n",
       "<style scoped>\n",
       "    .dataframe tbody tr th:only-of-type {\n",
       "        vertical-align: middle;\n",
       "    }\n",
       "\n",
       "    .dataframe tbody tr th {\n",
       "        vertical-align: top;\n",
       "    }\n",
       "\n",
       "    .dataframe thead th {\n",
       "        text-align: right;\n",
       "    }\n",
       "</style>\n",
       "<table border=\"1\" class=\"dataframe\">\n",
       "  <thead>\n",
       "    <tr style=\"text-align: right;\">\n",
       "      <th></th>\n",
       "      <th>Gender</th>\n",
       "      <th>Total</th>\n",
       "      <th>%</th>\n",
       "    </tr>\n",
       "  </thead>\n",
       "  <tbody>\n",
       "    <tr>\n",
       "      <th>0</th>\n",
       "      <td>Male</td>\n",
       "      <td>27131</td>\n",
       "      <td>62.17%</td>\n",
       "    </tr>\n",
       "    <tr>\n",
       "      <th>1</th>\n",
       "      <td>Female</td>\n",
       "      <td>10015</td>\n",
       "      <td>22.95%</td>\n",
       "    </tr>\n",
       "    <tr>\n",
       "      <th>2</th>\n",
       "      <td>Unknown</td>\n",
       "      <td>6492</td>\n",
       "      <td>14.88%</td>\n",
       "    </tr>\n",
       "  </tbody>\n",
       "</table>\n",
       "</div>"
      ],
      "text/plain": [
       "    Gender  Total       %\n",
       "0     Male  27131  62.17%\n",
       "1   Female  10015  22.95%\n",
       "2  Unknown   6492  14.88%"
      ]
     },
     "execution_count": 24,
     "metadata": {},
     "output_type": "execute_result"
    }
   ],
   "source": [
    "# total stops by gender\n",
    "stop_by_gender = precincts_sex[['Total','%']]\n",
    "stop_by_gender\n",
    "\n",
    "sbg = pd.DataFrame(stop_by_gender)\n",
    "sbg = sbg.reset_index()\n",
    "sbg = sbg.rename(columns={'index':'Gender'})\n",
    "sbg"
   ]
  },
  {
   "cell_type": "markdown",
   "metadata": {},
   "source": [
    "### Accuracy of Pre-determined Race vs. Actual Race"
   ]
  },
  {
   "cell_type": "code",
   "execution_count": 25,
   "metadata": {},
   "outputs": [
    {
     "name": "stdout",
     "output_type": "stream",
     "text": [
      "12573 times preRace matched actual Race\n",
      "2789 times preRace did not match Race\n"
     ]
    },
    {
     "data": {
      "text/html": [
       "<div>\n",
       "<style scoped>\n",
       "    .dataframe tbody tr th:only-of-type {\n",
       "        vertical-align: middle;\n",
       "    }\n",
       "\n",
       "    .dataframe tbody tr th {\n",
       "        vertical-align: top;\n",
       "    }\n",
       "\n",
       "    .dataframe thead th {\n",
       "        text-align: right;\n",
       "    }\n",
       "</style>\n",
       "<table border=\"1\" class=\"dataframe\">\n",
       "  <thead>\n",
       "    <tr style=\"text-align: right;\">\n",
       "      <th></th>\n",
       "      <th>Pre_Race matched Actuall Race</th>\n",
       "      <th>Pre_Race did not match Actuall Race</th>\n",
       "    </tr>\n",
       "  </thead>\n",
       "  <tbody>\n",
       "    <tr>\n",
       "      <th>0</th>\n",
       "      <td>12573</td>\n",
       "      <td>2789</td>\n",
       "    </tr>\n",
       "  </tbody>\n",
       "</table>\n",
       "</div>"
      ],
      "text/plain": [
       "   Pre_Race matched Actuall Race  Pre_Race did not match Actuall Race\n",
       "0                          12573                                 2789"
      ]
     },
     "execution_count": 25,
     "metadata": {},
     "output_type": "execute_result"
    }
   ],
   "source": [
    "#reading the csv\n",
    "#pre_race_count = pd.DataFrame(cleanDF['preRace'].value_counts())\n",
    "\n",
    "#summarizing data for preRace vs Race \n",
    "#e_test = e_test.loc[e_test['MDC'] == 'MDC']\n",
    "\n",
    "#data table with only preRace classfication\n",
    "pre_race = cleanDF.loc[cleanDF['preRace'] != 'Unknown'] #should we filter out other?\n",
    "\n",
    "#see how many times preRace matched race\n",
    "race_match = pre_race.loc[pre_race['preRace'] == pre_race['race']]\n",
    "race_match_count = len(race_match)\n",
    "print(f'{race_match_count} times preRace matched actual Race')\n",
    "\n",
    "#see how many times preRace DID NOT match actual race\n",
    "race_NA_match = pre_race.loc[pre_race['preRace'] != pre_race['race']]\n",
    "race_NA_match_count = len(race_NA_match)\n",
    "print(f'{race_NA_match_count} times preRace did not match Race')\n",
    "\n",
    "race_predictions = pd.DataFrame(\n",
    "                                {\"Pre_Race matched Actuall Race\" : [race_match_count],\n",
    "                                \"Pre_Race did not match Actuall Race\" : [race_NA_match_count]\n",
    "                                 })\n",
    "race_predictions"
   ]
  },
  {
   "cell_type": "code",
   "execution_count": 26,
   "metadata": {},
   "outputs": [
    {
     "data": {
      "text/html": [
       "<div>\n",
       "<style scoped>\n",
       "    .dataframe tbody tr th:only-of-type {\n",
       "        vertical-align: middle;\n",
       "    }\n",
       "\n",
       "    .dataframe tbody tr th {\n",
       "        vertical-align: top;\n",
       "    }\n",
       "\n",
       "    .dataframe thead th {\n",
       "        text-align: right;\n",
       "    }\n",
       "</style>\n",
       "<table border=\"1\" class=\"dataframe\">\n",
       "  <thead>\n",
       "    <tr style=\"text-align: right;\">\n",
       "      <th></th>\n",
       "      <th>preRace</th>\n",
       "    </tr>\n",
       "  </thead>\n",
       "  <tbody>\n",
       "    <tr>\n",
       "      <th>Black</th>\n",
       "      <td>6805</td>\n",
       "    </tr>\n",
       "    <tr>\n",
       "      <th>White</th>\n",
       "      <td>6004</td>\n",
       "    </tr>\n",
       "    <tr>\n",
       "      <th>Native American</th>\n",
       "      <td>908</td>\n",
       "    </tr>\n",
       "    <tr>\n",
       "      <th>Latino</th>\n",
       "      <td>528</td>\n",
       "    </tr>\n",
       "    <tr>\n",
       "      <th>Other</th>\n",
       "      <td>484</td>\n",
       "    </tr>\n",
       "    <tr>\n",
       "      <th>East African</th>\n",
       "      <td>481</td>\n",
       "    </tr>\n",
       "    <tr>\n",
       "      <th>Asian</th>\n",
       "      <td>152</td>\n",
       "    </tr>\n",
       "  </tbody>\n",
       "</table>\n",
       "</div>"
      ],
      "text/plain": [
       "                 preRace\n",
       "Black               6805\n",
       "White               6004\n",
       "Native American      908\n",
       "Latino               528\n",
       "Other                484\n",
       "East African         481\n",
       "Asian                152"
      ]
     },
     "execution_count": 26,
     "metadata": {},
     "output_type": "execute_result"
    }
   ],
   "source": [
    "pre_race_count = pd.DataFrame(pre_race['preRace'].value_counts())\n",
    "pre_race_count"
   ]
  },
  {
   "cell_type": "code",
   "execution_count": 27,
   "metadata": {},
   "outputs": [
    {
     "name": "stdout",
     "output_type": "stream",
     "text": [
      "Match count for precinct One 2059\n",
      "Precinct One was correct 87.92% of the time\n",
      "\n",
      "Match count for precinct Two 2083\n",
      "Precinct Two was correct 86.65% of the time\n",
      "\n",
      "Match count for precinct Three 2097\n",
      "Precinct Three was correct 69.41% of the time\n",
      "\n",
      "Match count for precinct Four 2452\n",
      "Precinct Four was correct 83.12% of the time\n",
      "\n",
      "Match count for precinct Five 3882\n",
      "Precinct Five was correct 83.57% of the time\n",
      "\n"
     ]
    }
   ],
   "source": [
    "#count of stops per precinct where preRace was determined \n",
    "one_count = len(pre_race.loc[pre_race['policePrecinct'] == 1])\n",
    "two_count = len(pre_race.loc[pre_race['policePrecinct'] == 2])\n",
    "three_count = len(pre_race.loc[pre_race['policePrecinct'] == 3])\n",
    "four_count = len(pre_race.loc[pre_race['policePrecinct'] == 4])\n",
    "five_count = len(pre_race.loc[pre_race['policePrecinct'] == 5])\n",
    "\n",
    "#Breaking out by precinct whre pre race macthed actual race\n",
    "race_match_one = pre_race.loc[(pre_race['preRace'] == pre_race['race']) & (pre_race['policePrecinct'] == 1) ]\n",
    "race_match_two = pre_race.loc[(pre_race['preRace'] == pre_race['race']) & (pre_race['policePrecinct'] == 2) ]\n",
    "race_match_three = pre_race.loc[(pre_race['preRace'] == pre_race['race']) & (pre_race['policePrecinct'] == 3) ]\n",
    "race_match_four = pre_race.loc[(pre_race['preRace'] == pre_race['race']) & (pre_race['policePrecinct'] == 4) ]\n",
    "race_match_five= pre_race.loc[(pre_race['preRace'] == pre_race['race']) & (pre_race['policePrecinct'] == 5) ]\n",
    "\n",
    "#count of how many times each precinct matched the race correctly \n",
    "precinct_one_count = len(race_match_one)\n",
    "precinct_two_count = len(race_match_two)\n",
    "precinct_three_count = len(race_match_three)\n",
    "precinct_four_count = len(race_match_four)\n",
    "precinct_five_count = len(race_match_five)\n",
    "\n",
    "#percent of each precinct match rate\n",
    "preccint_one_percent = round(precinct_one_count / one_count * 100,2)\n",
    "preccint_two_percent = round(precinct_two_count / two_count * 100,2)\n",
    "preccint_three_percent = round(precinct_three_count / three_count * 100,2)\n",
    "preccint_four_percent = round(precinct_four_count / four_count * 100,2)\n",
    "preccint_five_percent = round(precinct_five_count / five_count * 100,2)\n",
    "\n",
    "\n",
    "#print findings\n",
    "print(f'Match count for precinct One {precinct_one_count}')\n",
    "print(f'Precinct One was correct {preccint_one_percent}% of the time')\n",
    "print(\"\")\n",
    "print(f'Match count for precinct Two {precinct_two_count}')\n",
    "print(f'Precinct Two was correct {preccint_two_percent}% of the time')\n",
    "print(\"\")\n",
    "print(f'Match count for precinct Three {precinct_three_count}')\n",
    "print(f'Precinct Three was correct {preccint_three_percent}% of the time')\n",
    "print(\"\")\n",
    "print(f'Match count for precinct Four {precinct_four_count}')\n",
    "print(f'Precinct Four was correct {preccint_four_percent}% of the time')\n",
    "print(\"\")\n",
    "print(f'Match count for precinct Five {precinct_five_count}')\n",
    "print(f'Precinct Five was correct {preccint_five_percent}% of the time')\n",
    "print(\"\")"
   ]
  },
  {
   "cell_type": "code",
   "execution_count": 28,
   "metadata": {},
   "outputs": [
    {
     "data": {
      "text/html": [
       "<div>\n",
       "<style scoped>\n",
       "    .dataframe tbody tr th:only-of-type {\n",
       "        vertical-align: middle;\n",
       "    }\n",
       "\n",
       "    .dataframe tbody tr th {\n",
       "        vertical-align: top;\n",
       "    }\n",
       "\n",
       "    .dataframe thead th {\n",
       "        text-align: right;\n",
       "    }\n",
       "</style>\n",
       "<table border=\"1\" class=\"dataframe\">\n",
       "  <thead>\n",
       "    <tr style=\"text-align: right;\">\n",
       "      <th></th>\n",
       "      <th>Matches</th>\n",
       "      <th>Match_Rate</th>\n",
       "    </tr>\n",
       "    <tr>\n",
       "      <th>Precinct</th>\n",
       "      <th></th>\n",
       "      <th></th>\n",
       "    </tr>\n",
       "  </thead>\n",
       "  <tbody>\n",
       "    <tr>\n",
       "      <th>1</th>\n",
       "      <td>2059</td>\n",
       "      <td>87.92%</td>\n",
       "    </tr>\n",
       "    <tr>\n",
       "      <th>2</th>\n",
       "      <td>2083</td>\n",
       "      <td>86.65%</td>\n",
       "    </tr>\n",
       "    <tr>\n",
       "      <th>3</th>\n",
       "      <td>2097</td>\n",
       "      <td>69.41%</td>\n",
       "    </tr>\n",
       "    <tr>\n",
       "      <th>4</th>\n",
       "      <td>2452</td>\n",
       "      <td>83.12%</td>\n",
       "    </tr>\n",
       "    <tr>\n",
       "      <th>5</th>\n",
       "      <td>3882</td>\n",
       "      <td>83.57%</td>\n",
       "    </tr>\n",
       "  </tbody>\n",
       "</table>\n",
       "</div>"
      ],
      "text/plain": [
       "          Matches Match_Rate\n",
       "Precinct                    \n",
       "1            2059     87.92%\n",
       "2            2083     86.65%\n",
       "3            2097     69.41%\n",
       "4            2452     83.12%\n",
       "5            3882     83.57%"
      ]
     },
     "execution_count": 28,
     "metadata": {},
     "output_type": "execute_result"
    }
   ],
   "source": [
    "#creating df\n",
    "precint_match_df = pd.DataFrame({ 'Matches':[precinct_one_count,precinct_two_count,precinct_three_count,precinct_four_count,precinct_five_count],\n",
    "                                  'Match_Rate' :[preccint_one_percent,preccint_two_percent,preccint_three_percent,preccint_four_percent,preccint_five_percent]},\n",
    "                                     index=[1,2,3,4,5])\n",
    "precint_match_df['Match_Rate'] = precint_match_df['Match_Rate'].map(\"{:.2f}%\".format)\n",
    "\n",
    "precint_match_df.index.name = 'Precinct'\n",
    "precint_match_df\n",
    "\n",
    "\n",
    "\n",
    "\n"
   ]
  },
  {
   "cell_type": "markdown",
   "metadata": {},
   "source": [
    "### Vechile Search and Citation Issued"
   ]
  },
  {
   "cell_type": "code",
   "execution_count": 134,
   "metadata": {},
   "outputs": [
    {
     "data": {
      "text/html": [
       "<div>\n",
       "<style scoped>\n",
       "    .dataframe tbody tr th:only-of-type {\n",
       "        vertical-align: middle;\n",
       "    }\n",
       "\n",
       "    .dataframe tbody tr th {\n",
       "        vertical-align: top;\n",
       "    }\n",
       "\n",
       "    .dataframe thead th {\n",
       "        text-align: right;\n",
       "    }\n",
       "</style>\n",
       "<table border=\"1\" class=\"dataframe\">\n",
       "  <thead>\n",
       "    <tr style=\"text-align: right;\">\n",
       "      <th></th>\n",
       "      <th>Count</th>\n",
       "      <th>Percent</th>\n",
       "    </tr>\n",
       "    <tr>\n",
       "      <th>race</th>\n",
       "      <th></th>\n",
       "      <th></th>\n",
       "    </tr>\n",
       "  </thead>\n",
       "  <tbody>\n",
       "    <tr>\n",
       "      <th>Asian</th>\n",
       "      <td>3</td>\n",
       "      <td>0.88%</td>\n",
       "    </tr>\n",
       "    <tr>\n",
       "      <th>Black</th>\n",
       "      <td>223</td>\n",
       "      <td>65.40%</td>\n",
       "    </tr>\n",
       "    <tr>\n",
       "      <th>East African</th>\n",
       "      <td>14</td>\n",
       "      <td>4.11%</td>\n",
       "    </tr>\n",
       "    <tr>\n",
       "      <th>Latino</th>\n",
       "      <td>25</td>\n",
       "      <td>7.33%</td>\n",
       "    </tr>\n",
       "    <tr>\n",
       "      <th>Native American</th>\n",
       "      <td>4</td>\n",
       "      <td>1.17%</td>\n",
       "    </tr>\n",
       "    <tr>\n",
       "      <th>Other</th>\n",
       "      <td>8</td>\n",
       "      <td>2.35%</td>\n",
       "    </tr>\n",
       "    <tr>\n",
       "      <th>Unknown</th>\n",
       "      <td>11</td>\n",
       "      <td>3.23%</td>\n",
       "    </tr>\n",
       "    <tr>\n",
       "      <th>White</th>\n",
       "      <td>53</td>\n",
       "      <td>15.54%</td>\n",
       "    </tr>\n",
       "  </tbody>\n",
       "</table>\n",
       "</div>"
      ],
      "text/plain": [
       "                 Count Percent\n",
       "race                          \n",
       "Asian                3   0.88%\n",
       "Black              223  65.40%\n",
       "East African        14   4.11%\n",
       "Latino              25   7.33%\n",
       "Native American      4   1.17%\n",
       "Other                8   2.35%\n",
       "Unknown             11   3.23%\n",
       "White               53  15.54%"
      ]
     },
     "execution_count": 134,
     "metadata": {},
     "output_type": "execute_result"
    }
   ],
   "source": [
    "#filter the table to only include stops where the vehicle was serched and a citation was issued. \n",
    "\n",
    "citation_search = cleanDF.loc[(cleanDF['citationIssued'] == 'YES') & (cleanDF['vehicleSearch'] == 'YES')]\n",
    "vech_search_cit = pd.DataFrame(citation_search.groupby(['race'])['race'].count())\n",
    "vech_search_cit = vech_search_cit.rename(columns={'race':'Count'})\n",
    "vech_search_cit['Percent'] =  vech_search_cit['Count'] / vech_search_cit['Count'].sum() * 100\n",
    "vech_search_cit['Percent'] = vech_search_cit['Percent'].map(\"{:.2f}%\".format)\n",
    "\n",
    "#Show DF\n",
    "vech_search_cit"
   ]
  },
  {
   "cell_type": "code",
   "execution_count": 154,
   "metadata": {},
   "outputs": [
    {
     "data": {
      "image/png": "[encoded data removed]",
      "text/plain": [
       "<Figure size 432x288 with 1 Axes>"
      ]
     },
     "metadata": {},
     "output_type": "display_data"
    },
    {
     "data": {
      "text/plain": [
       "<Figure size 432x288 with 0 Axes>"
      ]
     },
     "metadata": {},
     "output_type": "display_data"
    }
   ],
   "source": [
    "# Bar Chart of vech_search_cit data frame\n",
    "\n",
    "fig9, ax9 = plt.subplots()\n",
    "x = ('Asian','Black','East African','Latino','Native American','Other','Unkown','White')\n",
    "y = vech_search_cit['Count']\n",
    "\n",
    "ax9.bar(x,y , color='lightblue')\n",
    "plt.xticks(rotation='vertical')\n",
    "plt.title('Total count of Vehicle Searches that ended with a Citation Issue')\n",
    "plt.show()\n",
    "plt.savefig('citations_issued_plus_search.png')"
   ]
  },
  {
   "cell_type": "markdown",
   "metadata": {},
   "source": [
    "### Stops where vehicle was not searched and a citation was issued"
   ]
  },
  {
   "cell_type": "code",
   "execution_count": 153,
   "metadata": {},
   "outputs": [
    {
     "data": {
      "text/html": [
       "<div>\n",
       "<style scoped>\n",
       "    .dataframe tbody tr th:only-of-type {\n",
       "        vertical-align: middle;\n",
       "    }\n",
       "\n",
       "    .dataframe tbody tr th {\n",
       "        vertical-align: top;\n",
       "    }\n",
       "\n",
       "    .dataframe thead th {\n",
       "        text-align: right;\n",
       "    }\n",
       "</style>\n",
       "<table border=\"1\" class=\"dataframe\">\n",
       "  <thead>\n",
       "    <tr style=\"text-align: right;\">\n",
       "      <th></th>\n",
       "      <th>Count</th>\n",
       "      <th>Percent</th>\n",
       "    </tr>\n",
       "    <tr>\n",
       "      <th>race</th>\n",
       "      <th></th>\n",
       "      <th></th>\n",
       "    </tr>\n",
       "  </thead>\n",
       "  <tbody>\n",
       "    <tr>\n",
       "      <th>Asian</th>\n",
       "      <td>55</td>\n",
       "      <td>1.92%</td>\n",
       "    </tr>\n",
       "    <tr>\n",
       "      <th>Black</th>\n",
       "      <td>1282</td>\n",
       "      <td>44.67%</td>\n",
       "    </tr>\n",
       "    <tr>\n",
       "      <th>East African</th>\n",
       "      <td>125</td>\n",
       "      <td>4.36%</td>\n",
       "    </tr>\n",
       "    <tr>\n",
       "      <th>Latino</th>\n",
       "      <td>175</td>\n",
       "      <td>6.10%</td>\n",
       "    </tr>\n",
       "    <tr>\n",
       "      <th>Native American</th>\n",
       "      <td>82</td>\n",
       "      <td>2.86%</td>\n",
       "    </tr>\n",
       "    <tr>\n",
       "      <th>Other</th>\n",
       "      <td>71</td>\n",
       "      <td>2.47%</td>\n",
       "    </tr>\n",
       "    <tr>\n",
       "      <th>Unknown</th>\n",
       "      <td>214</td>\n",
       "      <td>7.46%</td>\n",
       "    </tr>\n",
       "    <tr>\n",
       "      <th>White</th>\n",
       "      <td>866</td>\n",
       "      <td>30.17%</td>\n",
       "    </tr>\n",
       "  </tbody>\n",
       "</table>\n",
       "</div>"
      ],
      "text/plain": [
       "                 Count Percent\n",
       "race                          \n",
       "Asian               55   1.92%\n",
       "Black             1282  44.67%\n",
       "East African       125   4.36%\n",
       "Latino             175   6.10%\n",
       "Native American     82   2.86%\n",
       "Other               71   2.47%\n",
       "Unknown            214   7.46%\n",
       "White              866  30.17%"
      ]
     },
     "execution_count": 153,
     "metadata": {},
     "output_type": "execute_result"
    }
   ],
   "source": [
    "#filter the table to only include stops where the vehicle was NOT serched and a citation was issued. \n",
    "\n",
    "citation = cleanDF.loc[(cleanDF['citationIssued'] == 'YES') & (cleanDF['vehicleSearch'] == 'NO')]\n",
    "vech_cit = pd.DataFrame(citation.groupby(['race'])['race'].count())\n",
    "vech_cit = vech_cit.rename(columns={'race':'Count'})\n",
    "vech_cit['Percent'] =  vech_cit['Count'] / vech_cit['Count'].sum() * 100\n",
    "vech_cit['Percent'] = vech_cit['Percent'].map(\"{:.2f}%\".format)\n",
    "\n",
    "#show DF\n",
    "vech_cit"
   ]
  },
  {
   "cell_type": "code",
   "execution_count": 253,
   "metadata": {},
   "outputs": [
    {
     "data": {
      "image/png": "[encoded data removed]",
      "text/plain": [
       "<Figure size 432x288 with 1 Axes>"
      ]
     },
     "metadata": {},
     "output_type": "display_data"
    },
    {
     "data": {
      "text/plain": [
       "<Figure size 432x288 with 0 Axes>"
      ]
     },
     "metadata": {},
     "output_type": "display_data"
    }
   ],
   "source": [
    "fig10, ax10 = plt.subplots()\n",
    "x = ('Asian','Black','East African','Latino','Native American','Other','Unkown','White')\n",
    "y = vech_cit['Count']\n",
    "\n",
    "ax10.bar(x,y , color='violet')\n",
    "plt.xticks(rotation='vertical')\n",
    "ax10.set_title('Total stops that ended with a Citation Issued')\n",
    "plt.show()\n",
    "plt.savefig('citations_without_vechicle_search.png')"
   ]
  },
  {
   "cell_type": "code",
   "execution_count": null,
   "metadata": {},
   "outputs": [],
   "source": []
  }
 ],
 "metadata": {
  "kernelspec": {
   "display_name": "Python 3",
   "language": "python",
   "name": "python3"
  },
  "language_info": {
   "codemirror_mode": {
    "name": "ipython",
    "version": 3
   },
   "file_extension": ".py",
   "mimetype": "text/x-python",
   "name": "python",
   "nbconvert_exporter": "python",
   "pygments_lexer": "ipython3",
   "version": "3.6.5"
  }
 },
 "nbformat": 4,
 "nbformat_minor": 2
}
