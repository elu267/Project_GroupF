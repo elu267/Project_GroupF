{
 "cells": [
  {
   "cell_type": "markdown",
   "metadata": {},
   "source": [
    "## Questions\n",
    "\n",
    "1.\tWhat factors play into police stops.\n",
    "    a.\tGiven pieces of data about a particular stop, to what extent can we predict the race of the subject. \n",
    "    i.\tAM vs PM \n",
    "2.\tCan we predict what precincts that are more likely to pull over a particular gender/race. \n",
    "    a.\tAM vs PM\n",
    "3.\tWhat is the correlation of prerace actually being accurate to actual race. \n",
    "4.\tAre there times of higher citations. Morning, Afternoon, Evening, Night. \n",
    "5. Does the type of traffic stop impact whether a person is searched? H1 If suspicious vehicle stops are related to a person being searched, then the percentage of searches will be higher than the regular traffic stops for the year; H0 If suspicious vehicle stops are not related to a person being serarched, then the percentage of searches will be approximately equal for the year.\n",
    "\n"
   ]
  },
  {
   "cell_type": "code",
   "execution_count": 35,
   "metadata": {},
   "outputs": [],
   "source": [
    "# importing dependencies\n",
    "import numpy as np \n",
    "import pandas as pd\n",
    "import scipy.stats as stats\n",
    "import matplotlib.pyplot as plt\n",
    "%matplotlib inline\n",
    "from pylab import *\n",
    "import requests\n",
    "import time\n",
    "import json\n",
    "import datetime\n",
    "from pprint import pprint\n",
    "\n",
    "# Google developer API key\n",
    "#from config import google_key\n",
    "\n",
    "# Census developer API key\n",
    "#from config import census_key"
   ]
  },
  {
   "cell_type": "markdown",
   "metadata": {},
   "source": [
    "## Data Load, Prep and Review"
   ]
  },
  {
   "cell_type": "code",
   "execution_count": 68,
   "metadata": {},
   "outputs": [
    {
     "ename": "TypeError",
     "evalue": "string indices must be integers",
     "output_type": "error",
     "traceback": [
      "\u001b[0;31m---------------------------------------------------------------------------\u001b[0m",
      "\u001b[0;31mTypeError\u001b[0m                                 Traceback (most recent call last)",
      "\u001b[0;32m<ipython-input-68-8812ff4c810d>\u001b[0m in \u001b[0;36m<module>\u001b[0;34m()\u001b[0m\n\u001b[1;32m      9\u001b[0m \u001b[0;34m\u001b[0m\u001b[0m\n\u001b[1;32m     10\u001b[0m \u001b[0;32mfor\u001b[0m \u001b[0mtime\u001b[0m \u001b[0;32min\u001b[0m \u001b[0mStopOriginal\u001b[0m\u001b[0;34m:\u001b[0m\u001b[0;34m\u001b[0m\u001b[0m\n\u001b[0;32m---> 11\u001b[0;31m     \u001b[0mconvertedTime\u001b[0m \u001b[0;34m=\u001b[0m \u001b[0mget_sec\u001b[0m\u001b[0;34m(\u001b[0m\u001b[0mtime\u001b[0m\u001b[0;34m[\u001b[0m\u001b[0;34m'Time'\u001b[0m\u001b[0;34m]\u001b[0m\u001b[0;34m)\u001b[0m\u001b[0;34m\u001b[0m\u001b[0m\n\u001b[0m\u001b[1;32m     12\u001b[0m     \u001b[0mStopOriginal\u001b[0m\u001b[0;34m.\u001b[0m\u001b[0mappend\u001b[0m\u001b[0;34m(\u001b[0m\u001b[0;34m{\u001b[0m\u001b[0;34m'convertedTime'\u001b[0m\u001b[0;34m:\u001b[0m \u001b[0mconvertedTime\u001b[0m\u001b[0;34m}\u001b[0m\u001b[0;34m)\u001b[0m\u001b[0;34m\u001b[0m\u001b[0m\n\u001b[1;32m     13\u001b[0m \u001b[0;34m\u001b[0m\u001b[0m\n",
      "\u001b[0;31mTypeError\u001b[0m: string indices must be integers"
     ]
    }
   ],
   "source": [
    "# reading csv file\n",
    "StopOriginal = pd.read_csv('MplsStops_base.csv', parse_dates=['date'], infer_datetime_format=True)\n",
    "\n",
    "StopOriginal['Time'] = StopOriginal.date.dt.time\n",
    "\n",
    "def get_sec(time_str):\n",
    "    h, m, s = time_str.split(':')\n",
    "    return int(h) * 3600 + int(m) * 60 + int(s)\n",
    "\n",
    "for time in StopOriginal:\n",
    "    convertedTime = get_sec(time['Time'])\n",
    "    StopOriginal.append({'convertedTime': convertedTime})\n",
    "\n",
    "# displaying file header and five rows\n",
    "StopOriginal.head()"
   ]
  },
  {
   "cell_type": "code",
   "execution_count": 69,
   "metadata": {},
   "outputs": [
    {
     "ename": "TypeError",
     "evalue": "string indices must be integers",
     "output_type": "error",
     "traceback": [
      "\u001b[0;31m---------------------------------------------------------------------------\u001b[0m",
      "\u001b[0;31mTypeError\u001b[0m                                 Traceback (most recent call last)",
      "\u001b[0;32m<ipython-input-69-ad68d2256de2>\u001b[0m in \u001b[0;36m<module>\u001b[0;34m()\u001b[0m\n\u001b[1;32m      1\u001b[0m \u001b[0;32mfor\u001b[0m \u001b[0mrow\u001b[0m \u001b[0;32min\u001b[0m \u001b[0mStopOriginal\u001b[0m\u001b[0;34m:\u001b[0m\u001b[0;34m\u001b[0m\u001b[0m\n\u001b[0;32m----> 2\u001b[0;31m     \u001b[0mnewTime\u001b[0m \u001b[0;34m=\u001b[0m \u001b[0msum\u001b[0m\u001b[0;34m(\u001b[0m\u001b[0mint\u001b[0m\u001b[0;34m(\u001b[0m\u001b[0mx\u001b[0m\u001b[0;34m)\u001b[0m \u001b[0;34m*\u001b[0m \u001b[0;36m60\u001b[0m \u001b[0;34m**\u001b[0m \u001b[0mi\u001b[0m \u001b[0;32mfor\u001b[0m \u001b[0mi\u001b[0m\u001b[0;34m,\u001b[0m\u001b[0mx\u001b[0m \u001b[0;32min\u001b[0m \u001b[0menumerate\u001b[0m\u001b[0;34m(\u001b[0m\u001b[0mreversed\u001b[0m\u001b[0;34m(\u001b[0m\u001b[0mrow\u001b[0m\u001b[0;34m[\u001b[0m\u001b[0;34m'date'\u001b[0m\u001b[0;34m]\u001b[0m\u001b[0;34m.\u001b[0m\u001b[0msplit\u001b[0m\u001b[0;34m(\u001b[0m\u001b[0;34m\":\"\u001b[0m\u001b[0;34m)\u001b[0m\u001b[0;34m)\u001b[0m\u001b[0;34m)\u001b[0m\u001b[0;34m)\u001b[0m\u001b[0;34m\u001b[0m\u001b[0m\n\u001b[0m\u001b[1;32m      3\u001b[0m     \u001b[0mStopOriginal\u001b[0m\u001b[0;34m.\u001b[0m\u001b[0mappend\u001b[0m\u001b[0;34m(\u001b[0m\u001b[0;34m{\u001b[0m\u001b[0;34m'Time in Seconds'\u001b[0m\u001b[0;34m:\u001b[0m \u001b[0mnewTime\u001b[0m\u001b[0;34m}\u001b[0m\u001b[0;34m)\u001b[0m\u001b[0;34m\u001b[0m\u001b[0m\n",
      "\u001b[0;31mTypeError\u001b[0m: string indices must be integers"
     ]
    }
   ],
   "source": [
    "for row in StopOriginal:\n",
    "    newTime = sum(int(x) * 60 ** i for i,x in enumerate(reversed(row['date'].split(\":\"))))\n",
    "    StopOriginal.append({'Time in Seconds': newTime})"
   ]
  },
  {
   "cell_type": "code",
   "execution_count": 55,
   "metadata": {},
   "outputs": [
    {
     "data": {
      "text/plain": [
       "Unnamed: 0                 int64\n",
       "idNum                     object\n",
       "date              datetime64[ns]\n",
       "problem                   object\n",
       "MDC                       object\n",
       "citationIssued            object\n",
       "personSearch              object\n",
       "vehicleSearch             object\n",
       "preRace                   object\n",
       "race                      object\n",
       "gender                    object\n",
       "lat                      float64\n",
       "long                     float64\n",
       "policePrecinct             int64\n",
       "neighborhood              object\n",
       "Time                      object\n",
       "dtype: object"
      ]
     },
     "execution_count": 55,
     "metadata": {},
     "output_type": "execute_result"
    }
   ],
   "source": [
    "StopOriginal.dtypes"
   ]
  },
  {
   "cell_type": "code",
   "execution_count": 38,
   "metadata": {},
   "outputs": [
    {
     "data": {
      "text/plain": [
       "5    12825\n",
       "4    12273\n",
       "3     9792\n",
       "2     9478\n",
       "1     7552\n",
       "Name: policePrecinct, dtype: int64"
      ]
     },
     "execution_count": 38,
     "metadata": {},
     "output_type": "execute_result"
    }
   ],
   "source": [
    "#stops per precinct \n",
    "StopOriginal['policePrecinct'].value_counts()"
   ]
  },
  {
   "cell_type": "code",
   "execution_count": 39,
   "metadata": {},
   "outputs": [
    {
     "data": {
      "text/html": [
       "<div>\n",
       "<style scoped>\n",
       "    .dataframe tbody tr th:only-of-type {\n",
       "        vertical-align: middle;\n",
       "    }\n",
       "\n",
       "    .dataframe tbody tr th {\n",
       "        vertical-align: top;\n",
       "    }\n",
       "\n",
       "    .dataframe thead th {\n",
       "        text-align: right;\n",
       "    }\n",
       "</style>\n",
       "<table border=\"1\" class=\"dataframe\">\n",
       "  <thead>\n",
       "    <tr style=\"text-align: right;\">\n",
       "      <th></th>\n",
       "      <th>Unnamed: 0</th>\n",
       "      <th>idNum</th>\n",
       "      <th>date</th>\n",
       "      <th>problem</th>\n",
       "      <th>MDC</th>\n",
       "      <th>citationIssued</th>\n",
       "      <th>personSearch</th>\n",
       "      <th>vehicleSearch</th>\n",
       "      <th>preRace</th>\n",
       "      <th>race</th>\n",
       "      <th>gender</th>\n",
       "      <th>lat</th>\n",
       "      <th>long</th>\n",
       "      <th>policePrecinct</th>\n",
       "      <th>neighborhood</th>\n",
       "      <th>Time</th>\n",
       "    </tr>\n",
       "  </thead>\n",
       "  <tbody>\n",
       "    <tr>\n",
       "      <th>0</th>\n",
       "      <td>6823</td>\n",
       "      <td>17-000003</td>\n",
       "      <td>2017-01-01 00:00:00</td>\n",
       "      <td>suspicious</td>\n",
       "      <td>MDC</td>\n",
       "      <td>NaN</td>\n",
       "      <td>NO</td>\n",
       "      <td>NO</td>\n",
       "      <td>Unknown</td>\n",
       "      <td>Unknown</td>\n",
       "      <td>Unknown</td>\n",
       "      <td>44.966617</td>\n",
       "      <td>-93.246458</td>\n",
       "      <td>1</td>\n",
       "      <td>Cedar Riverside</td>\n",
       "      <td>00:00:00</td>\n",
       "    </tr>\n",
       "    <tr>\n",
       "      <th>1</th>\n",
       "      <td>6824</td>\n",
       "      <td>17-000007</td>\n",
       "      <td>2017-01-01 00:03:00</td>\n",
       "      <td>suspicious</td>\n",
       "      <td>MDC</td>\n",
       "      <td>NaN</td>\n",
       "      <td>NO</td>\n",
       "      <td>NO</td>\n",
       "      <td>Unknown</td>\n",
       "      <td>Unknown</td>\n",
       "      <td>Male</td>\n",
       "      <td>44.980450</td>\n",
       "      <td>-93.271340</td>\n",
       "      <td>1</td>\n",
       "      <td>Downtown West</td>\n",
       "      <td>00:03:00</td>\n",
       "    </tr>\n",
       "    <tr>\n",
       "      <th>2</th>\n",
       "      <td>6825</td>\n",
       "      <td>17-000073</td>\n",
       "      <td>2017-01-01 00:23:00</td>\n",
       "      <td>traffic</td>\n",
       "      <td>MDC</td>\n",
       "      <td>NaN</td>\n",
       "      <td>NO</td>\n",
       "      <td>NO</td>\n",
       "      <td>Unknown</td>\n",
       "      <td>White</td>\n",
       "      <td>Female</td>\n",
       "      <td>44.948350</td>\n",
       "      <td>-93.275380</td>\n",
       "      <td>5</td>\n",
       "      <td>Whittier</td>\n",
       "      <td>00:23:00</td>\n",
       "    </tr>\n",
       "    <tr>\n",
       "      <th>3</th>\n",
       "      <td>6826</td>\n",
       "      <td>17-000092</td>\n",
       "      <td>2017-01-01 00:33:00</td>\n",
       "      <td>suspicious</td>\n",
       "      <td>MDC</td>\n",
       "      <td>NaN</td>\n",
       "      <td>NO</td>\n",
       "      <td>NO</td>\n",
       "      <td>Unknown</td>\n",
       "      <td>East African</td>\n",
       "      <td>Male</td>\n",
       "      <td>44.948360</td>\n",
       "      <td>-93.281350</td>\n",
       "      <td>5</td>\n",
       "      <td>Whittier</td>\n",
       "      <td>00:33:00</td>\n",
       "    </tr>\n",
       "    <tr>\n",
       "      <th>4</th>\n",
       "      <td>6827</td>\n",
       "      <td>17-000098</td>\n",
       "      <td>2017-01-01 00:37:00</td>\n",
       "      <td>traffic</td>\n",
       "      <td>MDC</td>\n",
       "      <td>NaN</td>\n",
       "      <td>NO</td>\n",
       "      <td>NO</td>\n",
       "      <td>Unknown</td>\n",
       "      <td>White</td>\n",
       "      <td>Female</td>\n",
       "      <td>44.979078</td>\n",
       "      <td>-93.262076</td>\n",
       "      <td>1</td>\n",
       "      <td>Downtown West</td>\n",
       "      <td>00:37:00</td>\n",
       "    </tr>\n",
       "  </tbody>\n",
       "</table>\n",
       "</div>"
      ],
      "text/plain": [
       "   Unnamed: 0      idNum                date     problem  MDC citationIssued  \\\n",
       "0        6823  17-000003 2017-01-01 00:00:00  suspicious  MDC            NaN   \n",
       "1        6824  17-000007 2017-01-01 00:03:00  suspicious  MDC            NaN   \n",
       "2        6825  17-000073 2017-01-01 00:23:00     traffic  MDC            NaN   \n",
       "3        6826  17-000092 2017-01-01 00:33:00  suspicious  MDC            NaN   \n",
       "4        6827  17-000098 2017-01-01 00:37:00     traffic  MDC            NaN   \n",
       "\n",
       "  personSearch vehicleSearch  preRace          race   gender        lat  \\\n",
       "0           NO            NO  Unknown       Unknown  Unknown  44.966617   \n",
       "1           NO            NO  Unknown       Unknown     Male  44.980450   \n",
       "2           NO            NO  Unknown         White   Female  44.948350   \n",
       "3           NO            NO  Unknown  East African     Male  44.948360   \n",
       "4           NO            NO  Unknown         White   Female  44.979078   \n",
       "\n",
       "        long  policePrecinct     neighborhood      Time  \n",
       "0 -93.246458               1  Cedar Riverside  00:00:00  \n",
       "1 -93.271340               1    Downtown West  00:03:00  \n",
       "2 -93.275380               5         Whittier  00:23:00  \n",
       "3 -93.281350               5         Whittier  00:33:00  \n",
       "4 -93.262076               1    Downtown West  00:37:00  "
      ]
     },
     "execution_count": 39,
     "metadata": {},
     "output_type": "execute_result"
    }
   ],
   "source": [
    "# storing csv into a pandas dataframe\n",
    "initDF = pd.DataFrame(StopOriginal)\n",
    "initDF.head()"
   ]
  },
  {
   "cell_type": "code",
   "execution_count": 40,
   "metadata": {},
   "outputs": [
    {
     "data": {
      "text/plain": [
       "5    11435\n",
       "4    10726\n",
       "3     8345\n",
       "2     7944\n",
       "1     5249\n",
       "Name: policePrecinct, dtype: int64"
      ]
     },
     "execution_count": 40,
     "metadata": {},
     "output_type": "execute_result"
    }
   ],
   "source": [
    "cleanDF = initDF.drop(initDF[initDF.MDC == 'other'].index)\n",
    "cleanDF['policePrecinct'].value_counts()"
   ]
  },
  {
   "cell_type": "code",
   "execution_count": 41,
   "metadata": {},
   "outputs": [],
   "source": [
    "#data just for precinct 1 \n",
    "precinct_one = cleanDF.loc[cleanDF['policePrecinct'] == 1 ]\n",
    "precinct_two = cleanDF.loc[cleanDF['policePrecinct'] == 2 ]\n",
    "precinct_three = cleanDF.loc[cleanDF['policePrecinct'] == 3 ]\n",
    "precinct_four = cleanDF.loc[cleanDF['policePrecinct'] == 4 ]\n",
    "precinct_five = cleanDF.loc[cleanDF['policePrecinct'] == 5 ]"
   ]
  },
  {
   "cell_type": "code",
   "execution_count": 42,
   "metadata": {},
   "outputs": [
    {
     "data": {
      "text/plain": [
       "suspicious    3326\n",
       "traffic       1923\n",
       "Name: problem, dtype: int64"
      ]
     },
     "execution_count": 42,
     "metadata": {},
     "output_type": "execute_result"
    }
   ],
   "source": [
    "one = precinct_one['problem'].value_counts()\n",
    "one"
   ]
  },
  {
   "cell_type": "code",
   "execution_count": 43,
   "metadata": {},
   "outputs": [
    {
     "data": {
      "text/plain": [
       "43699"
      ]
     },
     "execution_count": 43,
     "metadata": {},
     "output_type": "execute_result"
    }
   ],
   "source": [
    "# calculating total stops \n",
    "precinct_df = pd.DataFrame(cleanDF['policePrecinct'].value_counts())\n",
    "stops = precinct_df['policePrecinct'].sum()\n",
    "stops"
   ]
  },
  {
   "cell_type": "code",
   "execution_count": 44,
   "metadata": {},
   "outputs": [
    {
     "data": {
      "text/html": [
       "<div>\n",
       "<style scoped>\n",
       "    .dataframe tbody tr th:only-of-type {\n",
       "        vertical-align: middle;\n",
       "    }\n",
       "\n",
       "    .dataframe tbody tr th {\n",
       "        vertical-align: top;\n",
       "    }\n",
       "\n",
       "    .dataframe thead th {\n",
       "        text-align: right;\n",
       "    }\n",
       "</style>\n",
       "<table border=\"1\" class=\"dataframe\">\n",
       "  <thead>\n",
       "    <tr style=\"text-align: right;\">\n",
       "      <th></th>\n",
       "      <th>race</th>\n",
       "      <th>%</th>\n",
       "    </tr>\n",
       "  </thead>\n",
       "  <tbody>\n",
       "    <tr>\n",
       "      <th>Black</th>\n",
       "      <td>15220</td>\n",
       "      <td>% 34.83</td>\n",
       "    </tr>\n",
       "    <tr>\n",
       "      <th>White</th>\n",
       "      <td>11703</td>\n",
       "      <td>% 26.78</td>\n",
       "    </tr>\n",
       "    <tr>\n",
       "      <th>Unknown</th>\n",
       "      <td>9219</td>\n",
       "      <td>% 21.10</td>\n",
       "    </tr>\n",
       "    <tr>\n",
       "      <th>East African</th>\n",
       "      <td>2188</td>\n",
       "      <td>% 5.01</td>\n",
       "    </tr>\n",
       "    <tr>\n",
       "      <th>Latino</th>\n",
       "      <td>1858</td>\n",
       "      <td>% 4.25</td>\n",
       "    </tr>\n",
       "    <tr>\n",
       "      <th>Native American</th>\n",
       "      <td>1516</td>\n",
       "      <td>% 3.47</td>\n",
       "    </tr>\n",
       "    <tr>\n",
       "      <th>Other</th>\n",
       "      <td>1348</td>\n",
       "      <td>% 3.08</td>\n",
       "    </tr>\n",
       "    <tr>\n",
       "      <th>Asian</th>\n",
       "      <td>647</td>\n",
       "      <td>% 1.48</td>\n",
       "    </tr>\n",
       "  </tbody>\n",
       "</table>\n",
       "</div>"
      ],
      "text/plain": [
       "                  race        %\n",
       "Black            15220  % 34.83\n",
       "White            11703  % 26.78\n",
       "Unknown           9219  % 21.10\n",
       "East African      2188   % 5.01\n",
       "Latino            1858   % 4.25\n",
       "Native American   1516   % 3.47\n",
       "Other             1348   % 3.08\n",
       "Asian              647   % 1.48"
      ]
     },
     "execution_count": 44,
     "metadata": {},
     "output_type": "execute_result"
    }
   ],
   "source": [
    "# Count of Stops by Race\n",
    "race_count = pd.DataFrame(cleanDF['race'].value_counts())\n",
    "race_count['%'] = race_count['race'] / stops * 100\n",
    "race_count['%'] = race_count['%'].map(\"% {:.2f}\".format)\n",
    "race_count\n",
    "#plt.pie(race_count['race'])\n",
    "#plt.show()"
   ]
  },
  {
   "cell_type": "code",
   "execution_count": 45,
   "metadata": {},
   "outputs": [
    {
     "data": {
      "text/html": [
       "<div>\n",
       "<style scoped>\n",
       "    .dataframe tbody tr th:only-of-type {\n",
       "        vertical-align: middle;\n",
       "    }\n",
       "\n",
       "    .dataframe tbody tr th {\n",
       "        vertical-align: top;\n",
       "    }\n",
       "\n",
       "    .dataframe thead th {\n",
       "        text-align: right;\n",
       "    }\n",
       "</style>\n",
       "<table border=\"1\" class=\"dataframe\">\n",
       "  <thead>\n",
       "    <tr style=\"text-align: right;\">\n",
       "      <th></th>\n",
       "      <th>race</th>\n",
       "      <th>one</th>\n",
       "      <th>two</th>\n",
       "      <th>three</th>\n",
       "      <th>four</th>\n",
       "      <th>five</th>\n",
       "      <th>Total</th>\n",
       "    </tr>\n",
       "  </thead>\n",
       "  <tbody>\n",
       "    <tr>\n",
       "      <th>0</th>\n",
       "      <td>Asian</td>\n",
       "      <td>65</td>\n",
       "      <td>165</td>\n",
       "      <td>53</td>\n",
       "      <td>177</td>\n",
       "      <td>187</td>\n",
       "      <td>647</td>\n",
       "    </tr>\n",
       "    <tr>\n",
       "      <th>1</th>\n",
       "      <td>Black</td>\n",
       "      <td>2176</td>\n",
       "      <td>2226</td>\n",
       "      <td>2059</td>\n",
       "      <td>6183</td>\n",
       "      <td>2576</td>\n",
       "      <td>15220</td>\n",
       "    </tr>\n",
       "    <tr>\n",
       "      <th>2</th>\n",
       "      <td>East African</td>\n",
       "      <td>286</td>\n",
       "      <td>364</td>\n",
       "      <td>463</td>\n",
       "      <td>127</td>\n",
       "      <td>948</td>\n",
       "      <td>2188</td>\n",
       "    </tr>\n",
       "    <tr>\n",
       "      <th>3</th>\n",
       "      <td>Latino</td>\n",
       "      <td>100</td>\n",
       "      <td>429</td>\n",
       "      <td>543</td>\n",
       "      <td>216</td>\n",
       "      <td>570</td>\n",
       "      <td>1858</td>\n",
       "    </tr>\n",
       "    <tr>\n",
       "      <th>4</th>\n",
       "      <td>Native American</td>\n",
       "      <td>192</td>\n",
       "      <td>119</td>\n",
       "      <td>750</td>\n",
       "      <td>108</td>\n",
       "      <td>347</td>\n",
       "      <td>1516</td>\n",
       "    </tr>\n",
       "    <tr>\n",
       "      <th>5</th>\n",
       "      <td>Other</td>\n",
       "      <td>165</td>\n",
       "      <td>304</td>\n",
       "      <td>273</td>\n",
       "      <td>228</td>\n",
       "      <td>378</td>\n",
       "      <td>1348</td>\n",
       "    </tr>\n",
       "    <tr>\n",
       "      <th>6</th>\n",
       "      <td>Unknown</td>\n",
       "      <td>897</td>\n",
       "      <td>1033</td>\n",
       "      <td>2893</td>\n",
       "      <td>2494</td>\n",
       "      <td>1902</td>\n",
       "      <td>9219</td>\n",
       "    </tr>\n",
       "    <tr>\n",
       "      <th>7</th>\n",
       "      <td>White</td>\n",
       "      <td>1368</td>\n",
       "      <td>3304</td>\n",
       "      <td>1311</td>\n",
       "      <td>1193</td>\n",
       "      <td>4527</td>\n",
       "      <td>11703</td>\n",
       "    </tr>\n",
       "  </tbody>\n",
       "</table>\n",
       "</div>"
      ],
      "text/plain": [
       "              race   one   two  three  four  five  Total\n",
       "0            Asian    65   165     53   177   187    647\n",
       "1            Black  2176  2226   2059  6183  2576  15220\n",
       "2     East African   286   364    463   127   948   2188\n",
       "3           Latino   100   429    543   216   570   1858\n",
       "4  Native American   192   119    750   108   347   1516\n",
       "5            Other   165   304    273   228   378   1348\n",
       "6          Unknown   897  1033   2893  2494  1902   9219\n",
       "7            White  1368  3304   1311  1193  4527  11703"
      ]
     },
     "execution_count": 45,
     "metadata": {},
     "output_type": "execute_result"
    }
   ],
   "source": [
    "# stops per precinct by race\n",
    "# count of stops per race per precinct\n",
    "one_race_count = pd.DataFrame(precinct_one['race'].value_counts())\n",
    "one_race_count = one_race_count.rename(columns={'race':'one'})\n",
    "\n",
    "two_race_count = pd.DataFrame(precinct_two['race'].value_counts())\n",
    "two_race_count = two_race_count.rename(columns={'race':'two'})\n",
    "\n",
    "three_race_count = pd.DataFrame(precinct_three['race'].value_counts())\n",
    "three_race_count = three_race_count.rename(columns={'race':'three'})\n",
    "\n",
    "four_race_count = pd.DataFrame(precinct_four['race'].value_counts())\n",
    "four_race_count = four_race_count.rename(columns={'race':'four'})\n",
    "\n",
    "five_race_count = pd.DataFrame(precinct_five['race'].value_counts())\n",
    "five_race_count = five_race_count.rename(columns={'race':'five'})\n",
    "\n",
    "#stops per precinct by race\n",
    "stops_per_precinct_by_race = pd.concat([one_race_count,two_race_count,three_race_count,four_race_count,five_race_count], axis=1, sort=True)\n",
    "stops_per_precinct_by_race = stops_per_precinct_by_race.reset_index()\n",
    "stops_per_precinct_by_race = stops_per_precinct_by_race.rename(columns={'index':'race'})\n",
    "stops_per_precinct_by_race = stops_per_precinct_by_race[['race','one','two','three','four','five']]\n",
    "stops_per_precinct_by_race['Total'] = stops_per_precinct_by_race.sum(axis=1)\n",
    "\n",
    "stops_per_precinct_by_race"
   ]
  },
  {
   "cell_type": "code",
   "execution_count": 46,
   "metadata": {},
   "outputs": [
    {
     "data": {
      "text/html": [
       "<div>\n",
       "<style scoped>\n",
       "    .dataframe tbody tr th:only-of-type {\n",
       "        vertical-align: middle;\n",
       "    }\n",
       "\n",
       "    .dataframe tbody tr th {\n",
       "        vertical-align: top;\n",
       "    }\n",
       "\n",
       "    .dataframe thead th {\n",
       "        text-align: right;\n",
       "    }\n",
       "</style>\n",
       "<table border=\"1\" class=\"dataframe\">\n",
       "  <thead>\n",
       "    <tr style=\"text-align: right;\">\n",
       "      <th></th>\n",
       "      <th>One</th>\n",
       "      <th>Two</th>\n",
       "      <th>Three</th>\n",
       "      <th>Four</th>\n",
       "      <th>Five</th>\n",
       "      <th>Total</th>\n",
       "      <th>%</th>\n",
       "    </tr>\n",
       "  </thead>\n",
       "  <tbody>\n",
       "    <tr>\n",
       "      <th>Male</th>\n",
       "      <td>3664</td>\n",
       "      <td>5181</td>\n",
       "      <td>4816</td>\n",
       "      <td>6468</td>\n",
       "      <td>7002</td>\n",
       "      <td>27131</td>\n",
       "      <td>% 62.17</td>\n",
       "    </tr>\n",
       "    <tr>\n",
       "      <th>Female</th>\n",
       "      <td>985</td>\n",
       "      <td>2109</td>\n",
       "      <td>1598</td>\n",
       "      <td>2297</td>\n",
       "      <td>3026</td>\n",
       "      <td>10015</td>\n",
       "      <td>% 22.95</td>\n",
       "    </tr>\n",
       "    <tr>\n",
       "      <th>Unknown</th>\n",
       "      <td>593</td>\n",
       "      <td>645</td>\n",
       "      <td>1922</td>\n",
       "      <td>1943</td>\n",
       "      <td>1389</td>\n",
       "      <td>6492</td>\n",
       "      <td>% 14.88</td>\n",
       "    </tr>\n",
       "  </tbody>\n",
       "</table>\n",
       "</div>"
      ],
      "text/plain": [
       "          One   Two  Three  Four  Five  Total        %\n",
       "Male     3664  5181   4816  6468  7002  27131  % 62.17\n",
       "Female    985  2109   1598  2297  3026  10015  % 22.95\n",
       "Unknown   593   645   1922  1943  1389   6492  % 14.88"
      ]
     },
     "execution_count": 46,
     "metadata": {},
     "output_type": "execute_result"
    }
   ],
   "source": [
    "# precinct stops by gender\n",
    "one_sex = pd.DataFrame(precinct_one['gender'].value_counts())\n",
    "two_sex = pd.DataFrame(precinct_two['gender'].value_counts())\n",
    "three_sex = pd.DataFrame(precinct_three['gender'].value_counts())\n",
    "four_sex = pd.DataFrame(precinct_four['gender'].value_counts())\n",
    "five_sex = pd.DataFrame(precinct_five['gender'].value_counts())\n",
    "\n",
    "precincts_sex = pd.concat([one_sex,two_sex,three_sex,four_sex,five_sex] , axis=1, sort=False)\n",
    "precincts_sex.columns = ['One','Two','Three','Four','Five']\n",
    "precincts_sex['Total'] = precincts_sex.sum(axis=1)\n",
    "precincts_sex['%'] = precincts_sex['Total'] / precincts_sex['Total'].sum() * 100 \n",
    "precincts_sex['%'] = precincts_sex['%'].map(\"% {:.2f}\".format)\n",
    "precincts_sex"
   ]
  },
  {
   "cell_type": "code",
   "execution_count": 47,
   "metadata": {},
   "outputs": [
    {
     "data": {
      "text/html": [
       "<div>\n",
       "<style scoped>\n",
       "    .dataframe tbody tr th:only-of-type {\n",
       "        vertical-align: middle;\n",
       "    }\n",
       "\n",
       "    .dataframe tbody tr th {\n",
       "        vertical-align: top;\n",
       "    }\n",
       "\n",
       "    .dataframe thead th {\n",
       "        text-align: right;\n",
       "    }\n",
       "</style>\n",
       "<table border=\"1\" class=\"dataframe\">\n",
       "  <thead>\n",
       "    <tr style=\"text-align: right;\">\n",
       "      <th></th>\n",
       "      <th>Total</th>\n",
       "      <th>%</th>\n",
       "    </tr>\n",
       "  </thead>\n",
       "  <tbody>\n",
       "    <tr>\n",
       "      <th>Male</th>\n",
       "      <td>27131</td>\n",
       "      <td>% 62.17</td>\n",
       "    </tr>\n",
       "    <tr>\n",
       "      <th>Female</th>\n",
       "      <td>10015</td>\n",
       "      <td>% 22.95</td>\n",
       "    </tr>\n",
       "    <tr>\n",
       "      <th>Unknown</th>\n",
       "      <td>6492</td>\n",
       "      <td>% 14.88</td>\n",
       "    </tr>\n",
       "  </tbody>\n",
       "</table>\n",
       "</div>"
      ],
      "text/plain": [
       "         Total        %\n",
       "Male     27131  % 62.17\n",
       "Female   10015  % 22.95\n",
       "Unknown   6492  % 14.88"
      ]
     },
     "execution_count": 47,
     "metadata": {},
     "output_type": "execute_result"
    }
   ],
   "source": [
    "# total stops by gender\n",
    "stop_by_gender = precincts_sex[['Total','%']]\n",
    "stop_by_gender"
   ]
  },
  {
   "cell_type": "code",
   "execution_count": 60,
   "metadata": {},
   "outputs": [
    {
     "ename": "TypeError",
     "evalue": "__init__() got multiple values for argument 'freq'",
     "output_type": "error",
     "traceback": [
      "\u001b[0;31m---------------------------------------------------------------------------\u001b[0m",
      "\u001b[0;31mTypeError\u001b[0m                                 Traceback (most recent call last)",
      "\u001b[0;32m<ipython-input-60-fc41c57501ce>\u001b[0m in \u001b[0;36m<module>\u001b[0;34m()\u001b[0m\n\u001b[1;32m      1\u001b[0m \u001b[0;31m# attempt to group by time - fail\u001b[0m\u001b[0;34m\u001b[0m\u001b[0;34m\u001b[0m\u001b[0m\n\u001b[0;32m----> 2\u001b[0;31m \u001b[0mtimeDF\u001b[0m \u001b[0;34m=\u001b[0m \u001b[0mcleanDF\u001b[0m\u001b[0;34m.\u001b[0m\u001b[0mgroupby\u001b[0m\u001b[0;34m(\u001b[0m\u001b[0mpd\u001b[0m\u001b[0;34m.\u001b[0m\u001b[0mGrouper\u001b[0m\u001b[0;34m(\u001b[0m\u001b[0;34m[\u001b[0m\u001b[0;34m'Time'\u001b[0m\u001b[0;34m]\u001b[0m\u001b[0;34m,\u001b[0m \u001b[0mfreq\u001b[0m\u001b[0;34m=\u001b[0m\u001b[0;34m'6h'\u001b[0m\u001b[0;34m)\u001b[0m\u001b[0;34m)\u001b[0m\u001b[0;34m\u001b[0m\u001b[0m\n\u001b[0m\u001b[1;32m      3\u001b[0m \u001b[0mtimeDF\u001b[0m\u001b[0;34m.\u001b[0m\u001b[0mhead\u001b[0m\u001b[0;34m(\u001b[0m\u001b[0;34m)\u001b[0m\u001b[0;34m\u001b[0m\u001b[0m\n",
      "\u001b[0;31mTypeError\u001b[0m: __init__() got multiple values for argument 'freq'"
     ]
    }
   ],
   "source": [
    "# attempt to group by time - fail\n",
    "timeDF = cleanDF.groupby(pd.Grouper(['Time'], freq='6h'))\n",
    "timeDF.head()"
   ]
  },
  {
   "cell_type": "code",
   "execution_count": 49,
   "metadata": {},
   "outputs": [
    {
     "ename": "SyntaxError",
     "evalue": "invalid syntax (<ipython-input-49-ebfe9c1c7b51>, line 2)",
     "output_type": "error",
     "traceback": [
      "\u001b[0;36m  File \u001b[0;32m\"<ipython-input-49-ebfe9c1c7b51>\"\u001b[0;36m, line \u001b[0;32m2\u001b[0m\n\u001b[0;31m    bins = [0:0:0, 5:59:59, 11:59:59, 17:59:59, 23:59:59]\u001b[0m\n\u001b[0m             ^\u001b[0m\n\u001b[0;31mSyntaxError\u001b[0m\u001b[0;31m:\u001b[0m invalid syntax\n"
     ]
    }
   ],
   "source": [
    "# attempt to group by time - fail #2\n",
    "\n",
    "# understand patterns of stops by time of day\n",
    "bins = [0:0:0, 5:59:59, 11:59:59, 17:59:59, 23:59:59]\n",
    "groups = [\"Night\",\"Morning\",\"AfterNoon\",\"Evening\"]\n",
    "\n",
    "cleanDF[\"Time Segments\"] = pd.cut(cleanDF[\"Time\"], bins, labels=groups)\n",
    "cleanDF.head()"
   ]
  },
  {
   "cell_type": "markdown",
   "metadata": {},
   "source": [
    "## Initial Plots / Testing"
   ]
  },
  {
   "cell_type": "code",
   "execution_count": null,
   "metadata": {},
   "outputs": [],
   "source": []
  }
 ],
 "metadata": {
  "kernelspec": {
   "display_name": "Python [default]",
   "language": "python",
   "name": "python3"
  },
  "language_info": {
   "codemirror_mode": {
    "name": "ipython",
    "version": 3
   },
   "file_extension": ".py",
   "mimetype": "text/x-python",
   "name": "python",
   "nbconvert_exporter": "python",
   "pygments_lexer": "ipython3",
   "version": "3.6.5"
  }
 },
 "nbformat": 4,
 "nbformat_minor": 2
}
